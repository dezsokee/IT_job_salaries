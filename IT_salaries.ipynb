{
 "cells": [
  {
   "cell_type": "markdown",
   "id": "591ba308",
   "metadata": {},
   "source": [
    "# IT salaries project\n",
    "\n",
    "### This is a project which is a test case for my data science jurney.\n",
    "<b> Created by Dezső Szabolcs </b>\n",
    "\n",
    "![purple-divider](https://user-images.githubusercontent.com/7065401/52071927-c1cd7100-2562-11e9-908a-dde91ba14e59.png)"
   ]
  },
  {
   "cell_type": "markdown",
   "id": "e4e30bd9",
   "metadata": {},
   "source": [
    "### Importing the packages from my Python library"
   ]
  },
  {
   "cell_type": "code",
   "execution_count": 3,
   "id": "09124029",
   "metadata": {},
   "outputs": [],
   "source": [
    "import numpy as np\n",
    "import pandas as pd\n",
    "import matplotlib.pyplot as plt"
   ]
  },
  {
   "cell_type": "markdown",
   "id": "a888df30",
   "metadata": {},
   "source": [
    "### Reading the external CSV file and document it"
   ]
  },
  {
   "cell_type": "code",
   "execution_count": 4,
   "id": "a82d27bd",
   "metadata": {},
   "outputs": [],
   "source": [
    "salaries_df = pd.read_csv(\"data/ds_salaries.csv\")"
   ]
  },
  {
   "cell_type": "markdown",
   "id": "9443464c",
   "metadata": {},
   "source": [
    "**Replacing the dataset index**"
   ]
  },
  {
   "cell_type": "code",
   "execution_count": 10,
   "id": "182135cc",
   "metadata": {},
   "outputs": [],
   "source": [
    "salaries_df.index.names = ['ID']"
   ]
  },
  {
   "cell_type": "code",
   "execution_count": 5,
   "id": "f034d48a",
   "metadata": {},
   "outputs": [],
   "source": [
    "salaries_df = salaries_df.drop('Unnamed: 0', axis = 1)\n"
   ]
  },
  {
   "cell_type": "code",
   "execution_count": 12,
   "id": "b620d76c",
   "metadata": {},
   "outputs": [
    {
     "data": {
      "text/html": [
       "<div>\n",
       "<style scoped>\n",
       "    .dataframe tbody tr th:only-of-type {\n",
       "        vertical-align: middle;\n",
       "    }\n",
       "\n",
       "    .dataframe tbody tr th {\n",
       "        vertical-align: top;\n",
       "    }\n",
       "\n",
       "    .dataframe thead th {\n",
       "        text-align: right;\n",
       "    }\n",
       "</style>\n",
       "<table border=\"1\" class=\"dataframe\">\n",
       "  <thead>\n",
       "    <tr style=\"text-align: right;\">\n",
       "      <th></th>\n",
       "      <th>work_year</th>\n",
       "      <th>experience_level</th>\n",
       "      <th>employment_type</th>\n",
       "      <th>job_title</th>\n",
       "      <th>salary</th>\n",
       "      <th>salary_currency</th>\n",
       "      <th>salary_in_usd</th>\n",
       "      <th>employee_residence</th>\n",
       "      <th>remote_ratio</th>\n",
       "      <th>company_location</th>\n",
       "      <th>company_size</th>\n",
       "    </tr>\n",
       "    <tr>\n",
       "      <th>ID</th>\n",
       "      <th></th>\n",
       "      <th></th>\n",
       "      <th></th>\n",
       "      <th></th>\n",
       "      <th></th>\n",
       "      <th></th>\n",
       "      <th></th>\n",
       "      <th></th>\n",
       "      <th></th>\n",
       "      <th></th>\n",
       "      <th></th>\n",
       "    </tr>\n",
       "  </thead>\n",
       "  <tbody>\n",
       "    <tr>\n",
       "      <th>0</th>\n",
       "      <td>2020</td>\n",
       "      <td>MI</td>\n",
       "      <td>FT</td>\n",
       "      <td>Data Scientist</td>\n",
       "      <td>70000</td>\n",
       "      <td>EUR</td>\n",
       "      <td>79833</td>\n",
       "      <td>DE</td>\n",
       "      <td>0</td>\n",
       "      <td>DE</td>\n",
       "      <td>L</td>\n",
       "    </tr>\n",
       "    <tr>\n",
       "      <th>1</th>\n",
       "      <td>2020</td>\n",
       "      <td>SE</td>\n",
       "      <td>FT</td>\n",
       "      <td>Machine Learning Scientist</td>\n",
       "      <td>260000</td>\n",
       "      <td>USD</td>\n",
       "      <td>260000</td>\n",
       "      <td>JP</td>\n",
       "      <td>0</td>\n",
       "      <td>JP</td>\n",
       "      <td>S</td>\n",
       "    </tr>\n",
       "    <tr>\n",
       "      <th>2</th>\n",
       "      <td>2020</td>\n",
       "      <td>SE</td>\n",
       "      <td>FT</td>\n",
       "      <td>Big Data Engineer</td>\n",
       "      <td>85000</td>\n",
       "      <td>GBP</td>\n",
       "      <td>109024</td>\n",
       "      <td>GB</td>\n",
       "      <td>50</td>\n",
       "      <td>GB</td>\n",
       "      <td>M</td>\n",
       "    </tr>\n",
       "    <tr>\n",
       "      <th>3</th>\n",
       "      <td>2020</td>\n",
       "      <td>MI</td>\n",
       "      <td>FT</td>\n",
       "      <td>Product Data Analyst</td>\n",
       "      <td>20000</td>\n",
       "      <td>USD</td>\n",
       "      <td>20000</td>\n",
       "      <td>HN</td>\n",
       "      <td>0</td>\n",
       "      <td>HN</td>\n",
       "      <td>S</td>\n",
       "    </tr>\n",
       "    <tr>\n",
       "      <th>4</th>\n",
       "      <td>2020</td>\n",
       "      <td>SE</td>\n",
       "      <td>FT</td>\n",
       "      <td>Machine Learning Engineer</td>\n",
       "      <td>150000</td>\n",
       "      <td>USD</td>\n",
       "      <td>150000</td>\n",
       "      <td>US</td>\n",
       "      <td>50</td>\n",
       "      <td>US</td>\n",
       "      <td>L</td>\n",
       "    </tr>\n",
       "  </tbody>\n",
       "</table>\n",
       "</div>"
      ],
      "text/plain": [
       "    work_year experience_level employment_type                   job_title  \\\n",
       "ID                                                                           \n",
       "0        2020               MI              FT              Data Scientist   \n",
       "1        2020               SE              FT  Machine Learning Scientist   \n",
       "2        2020               SE              FT           Big Data Engineer   \n",
       "3        2020               MI              FT        Product Data Analyst   \n",
       "4        2020               SE              FT   Machine Learning Engineer   \n",
       "\n",
       "    salary salary_currency  salary_in_usd employee_residence  remote_ratio  \\\n",
       "ID                                                                           \n",
       "0    70000             EUR          79833                 DE             0   \n",
       "1   260000             USD         260000                 JP             0   \n",
       "2    85000             GBP         109024                 GB            50   \n",
       "3    20000             USD          20000                 HN             0   \n",
       "4   150000             USD         150000                 US            50   \n",
       "\n",
       "   company_location company_size  \n",
       "ID                                \n",
       "0                DE            L  \n",
       "1                JP            S  \n",
       "2                GB            M  \n",
       "3                HN            S  \n",
       "4                US            L  "
      ]
     },
     "execution_count": 12,
     "metadata": {},
     "output_type": "execute_result"
    }
   ],
   "source": [
    "salaries_df.head()"
   ]
  },
  {
   "cell_type": "markdown",
   "id": "35231c7b",
   "metadata": {},
   "source": [
    "**Attributes of the dataset:**\n",
    "- ID\n",
    "- Work Year\n",
    "- Experience level\n",
    "- Employment Type\n",
    "- Job Title\n",
    "- Salary\n",
    "- Salary Currency\n",
    "- Salary in USD\n",
    "- Employee Residence\n",
    "- Remote Ratio\n",
    "- Company Location\n",
    "- Company Size"
   ]
  },
  {
   "cell_type": "markdown",
   "id": "f3459072",
   "metadata": {},
   "source": [
    "### Some basic statistics about the data"
   ]
  },
  {
   "cell_type": "code",
   "execution_count": 13,
   "id": "ee9d75a8",
   "metadata": {},
   "outputs": [
    {
     "data": {
      "text/html": [
       "<div>\n",
       "<style scoped>\n",
       "    .dataframe tbody tr th:only-of-type {\n",
       "        vertical-align: middle;\n",
       "    }\n",
       "\n",
       "    .dataframe tbody tr th {\n",
       "        vertical-align: top;\n",
       "    }\n",
       "\n",
       "    .dataframe thead th {\n",
       "        text-align: right;\n",
       "    }\n",
       "</style>\n",
       "<table border=\"1\" class=\"dataframe\">\n",
       "  <thead>\n",
       "    <tr style=\"text-align: right;\">\n",
       "      <th></th>\n",
       "      <th>work_year</th>\n",
       "      <th>salary</th>\n",
       "      <th>salary_in_usd</th>\n",
       "      <th>remote_ratio</th>\n",
       "    </tr>\n",
       "  </thead>\n",
       "  <tbody>\n",
       "    <tr>\n",
       "      <th>count</th>\n",
       "      <td>607.000000</td>\n",
       "      <td>6.070000e+02</td>\n",
       "      <td>607.000000</td>\n",
       "      <td>607.00000</td>\n",
       "    </tr>\n",
       "    <tr>\n",
       "      <th>mean</th>\n",
       "      <td>2021.405272</td>\n",
       "      <td>3.240001e+05</td>\n",
       "      <td>112297.869852</td>\n",
       "      <td>70.92257</td>\n",
       "    </tr>\n",
       "    <tr>\n",
       "      <th>std</th>\n",
       "      <td>0.692133</td>\n",
       "      <td>1.544357e+06</td>\n",
       "      <td>70957.259411</td>\n",
       "      <td>40.70913</td>\n",
       "    </tr>\n",
       "    <tr>\n",
       "      <th>min</th>\n",
       "      <td>2020.000000</td>\n",
       "      <td>4.000000e+03</td>\n",
       "      <td>2859.000000</td>\n",
       "      <td>0.00000</td>\n",
       "    </tr>\n",
       "    <tr>\n",
       "      <th>25%</th>\n",
       "      <td>2021.000000</td>\n",
       "      <td>7.000000e+04</td>\n",
       "      <td>62726.000000</td>\n",
       "      <td>50.00000</td>\n",
       "    </tr>\n",
       "    <tr>\n",
       "      <th>50%</th>\n",
       "      <td>2022.000000</td>\n",
       "      <td>1.150000e+05</td>\n",
       "      <td>101570.000000</td>\n",
       "      <td>100.00000</td>\n",
       "    </tr>\n",
       "    <tr>\n",
       "      <th>75%</th>\n",
       "      <td>2022.000000</td>\n",
       "      <td>1.650000e+05</td>\n",
       "      <td>150000.000000</td>\n",
       "      <td>100.00000</td>\n",
       "    </tr>\n",
       "    <tr>\n",
       "      <th>max</th>\n",
       "      <td>2022.000000</td>\n",
       "      <td>3.040000e+07</td>\n",
       "      <td>600000.000000</td>\n",
       "      <td>100.00000</td>\n",
       "    </tr>\n",
       "  </tbody>\n",
       "</table>\n",
       "</div>"
      ],
      "text/plain": [
       "         work_year        salary  salary_in_usd  remote_ratio\n",
       "count   607.000000  6.070000e+02     607.000000     607.00000\n",
       "mean   2021.405272  3.240001e+05  112297.869852      70.92257\n",
       "std       0.692133  1.544357e+06   70957.259411      40.70913\n",
       "min    2020.000000  4.000000e+03    2859.000000       0.00000\n",
       "25%    2021.000000  7.000000e+04   62726.000000      50.00000\n",
       "50%    2022.000000  1.150000e+05  101570.000000     100.00000\n",
       "75%    2022.000000  1.650000e+05  150000.000000     100.00000\n",
       "max    2022.000000  3.040000e+07  600000.000000     100.00000"
      ]
     },
     "execution_count": 13,
     "metadata": {},
     "output_type": "execute_result"
    }
   ],
   "source": [
    "salaries_df.describe()"
   ]
  },
  {
   "cell_type": "code",
   "execution_count": 25,
   "id": "271ee8a7",
   "metadata": {},
   "outputs": [
    {
     "data": {
      "text/plain": [
       "(607, 11)"
      ]
     },
     "execution_count": 25,
     "metadata": {},
     "output_type": "execute_result"
    }
   ],
   "source": [
    "salaries_df.shape"
   ]
  },
  {
   "cell_type": "markdown",
   "id": "80ce6f8e",
   "metadata": {},
   "source": [
    "### Cleaning the data if there is some NaN or NULL value"
   ]
  },
  {
   "cell_type": "code",
   "execution_count": 26,
   "id": "cb0a95e0",
   "metadata": {
    "scrolled": true
   },
   "outputs": [
    {
     "data": {
      "text/plain": [
       "work_year             0\n",
       "experience_level      0\n",
       "employment_type       0\n",
       "job_title             0\n",
       "salary                0\n",
       "salary_currency       0\n",
       "salary_in_usd         0\n",
       "employee_residence    0\n",
       "remote_ratio          0\n",
       "company_location      0\n",
       "company_size          0\n",
       "dtype: int64"
      ]
     },
     "execution_count": 26,
     "metadata": {},
     "output_type": "execute_result"
    }
   ],
   "source": [
    "pd.isna(salaries_df).sum()"
   ]
  },
  {
   "cell_type": "code",
   "execution_count": 33,
   "id": "cf3b3bc6",
   "metadata": {},
   "outputs": [],
   "source": [
    "salaries_df.dropna(inplace = True)"
   ]
  },
  {
   "cell_type": "markdown",
   "id": "1f094cf3",
   "metadata": {},
   "source": [
    "## Visualization\n",
    "![separator1](https://i.imgur.com/ZUWYTii.png)"
   ]
  },
  {
   "cell_type": "markdown",
   "id": "7eabd207",
   "metadata": {},
   "source": [
    "**Making a chart which represents the salaries of the three main field of data jobs**"
   ]
  },
  {
   "cell_type": "markdown",
   "id": "4ebdbc7a",
   "metadata": {},
   "source": [
    "Slice the main DataFrame into three separate DataFrame"
   ]
  },
  {
   "cell_type": "code",
   "execution_count": 6,
   "id": "c0002448",
   "metadata": {},
   "outputs": [],
   "source": [
    "data_scientists = salaries_df[salaries_df[\"job_title\"].str.contains(\"Data Scientist\")]\n",
    "data_analysts = salaries_df[salaries_df[\"job_title\"].str.contains(\"Data Analyst\")]\n",
    "data_engineers = salaries_df[salaries_df[\"job_title\"].str.contains(\"Data Engineer\")].copy()"
   ]
  },
  {
   "cell_type": "markdown",
   "id": "6ae49121",
   "metadata": {},
   "source": [
    "Filter the Big Data Engineers from the Data Engineers DataFrame"
   ]
  },
  {
   "cell_type": "code",
   "execution_count": 15,
   "id": "1a42c9eb",
   "metadata": {},
   "outputs": [
    {
     "data": {
      "text/html": [
       "<div>\n",
       "<style scoped>\n",
       "    .dataframe tbody tr th:only-of-type {\n",
       "        vertical-align: middle;\n",
       "    }\n",
       "\n",
       "    .dataframe tbody tr th {\n",
       "        vertical-align: top;\n",
       "    }\n",
       "\n",
       "    .dataframe thead th {\n",
       "        text-align: right;\n",
       "    }\n",
       "</style>\n",
       "<table border=\"1\" class=\"dataframe\">\n",
       "  <thead>\n",
       "    <tr style=\"text-align: right;\">\n",
       "      <th></th>\n",
       "      <th>work_year</th>\n",
       "      <th>experience_level</th>\n",
       "      <th>employment_type</th>\n",
       "      <th>job_title</th>\n",
       "      <th>salary</th>\n",
       "      <th>salary_currency</th>\n",
       "      <th>salary_in_usd</th>\n",
       "      <th>employee_residence</th>\n",
       "      <th>remote_ratio</th>\n",
       "      <th>company_location</th>\n",
       "      <th>company_size</th>\n",
       "    </tr>\n",
       "    <tr>\n",
       "      <th>ID</th>\n",
       "      <th></th>\n",
       "      <th></th>\n",
       "      <th></th>\n",
       "      <th></th>\n",
       "      <th></th>\n",
       "      <th></th>\n",
       "      <th></th>\n",
       "      <th></th>\n",
       "      <th></th>\n",
       "      <th></th>\n",
       "      <th></th>\n",
       "    </tr>\n",
       "  </thead>\n",
       "  <tbody>\n",
       "    <tr>\n",
       "      <th>2</th>\n",
       "      <td>2020</td>\n",
       "      <td>SE</td>\n",
       "      <td>FT</td>\n",
       "      <td>Big Data Engineer</td>\n",
       "      <td>85000</td>\n",
       "      <td>GBP</td>\n",
       "      <td>109024</td>\n",
       "      <td>GB</td>\n",
       "      <td>50</td>\n",
       "      <td>GB</td>\n",
       "      <td>M</td>\n",
       "    </tr>\n",
       "    <tr>\n",
       "      <th>17</th>\n",
       "      <td>2020</td>\n",
       "      <td>SE</td>\n",
       "      <td>FT</td>\n",
       "      <td>Big Data Engineer</td>\n",
       "      <td>100000</td>\n",
       "      <td>EUR</td>\n",
       "      <td>114047</td>\n",
       "      <td>PL</td>\n",
       "      <td>100</td>\n",
       "      <td>GB</td>\n",
       "      <td>S</td>\n",
       "    </tr>\n",
       "    <tr>\n",
       "      <th>31</th>\n",
       "      <td>2020</td>\n",
       "      <td>EN</td>\n",
       "      <td>FT</td>\n",
       "      <td>Big Data Engineer</td>\n",
       "      <td>70000</td>\n",
       "      <td>USD</td>\n",
       "      <td>70000</td>\n",
       "      <td>US</td>\n",
       "      <td>100</td>\n",
       "      <td>US</td>\n",
       "      <td>L</td>\n",
       "    </tr>\n",
       "    <tr>\n",
       "      <th>120</th>\n",
       "      <td>2021</td>\n",
       "      <td>MI</td>\n",
       "      <td>FT</td>\n",
       "      <td>Big Data Engineer</td>\n",
       "      <td>60000</td>\n",
       "      <td>USD</td>\n",
       "      <td>60000</td>\n",
       "      <td>ES</td>\n",
       "      <td>50</td>\n",
       "      <td>RO</td>\n",
       "      <td>M</td>\n",
       "    </tr>\n",
       "    <tr>\n",
       "      <th>180</th>\n",
       "      <td>2021</td>\n",
       "      <td>MI</td>\n",
       "      <td>FT</td>\n",
       "      <td>Big Data Engineer</td>\n",
       "      <td>1672000</td>\n",
       "      <td>INR</td>\n",
       "      <td>22611</td>\n",
       "      <td>IN</td>\n",
       "      <td>0</td>\n",
       "      <td>IN</td>\n",
       "      <td>L</td>\n",
       "    </tr>\n",
       "    <tr>\n",
       "      <th>192</th>\n",
       "      <td>2021</td>\n",
       "      <td>MI</td>\n",
       "      <td>FT</td>\n",
       "      <td>Big Data Engineer</td>\n",
       "      <td>18000</td>\n",
       "      <td>USD</td>\n",
       "      <td>18000</td>\n",
       "      <td>MD</td>\n",
       "      <td>0</td>\n",
       "      <td>MD</td>\n",
       "      <td>S</td>\n",
       "    </tr>\n",
       "    <tr>\n",
       "      <th>213</th>\n",
       "      <td>2021</td>\n",
       "      <td>EN</td>\n",
       "      <td>FT</td>\n",
       "      <td>Big Data Engineer</td>\n",
       "      <td>435000</td>\n",
       "      <td>INR</td>\n",
       "      <td>5882</td>\n",
       "      <td>IN</td>\n",
       "      <td>0</td>\n",
       "      <td>CH</td>\n",
       "      <td>L</td>\n",
       "    </tr>\n",
       "    <tr>\n",
       "      <th>230</th>\n",
       "      <td>2021</td>\n",
       "      <td>EN</td>\n",
       "      <td>FT</td>\n",
       "      <td>Big Data Engineer</td>\n",
       "      <td>1200000</td>\n",
       "      <td>INR</td>\n",
       "      <td>16228</td>\n",
       "      <td>IN</td>\n",
       "      <td>100</td>\n",
       "      <td>IN</td>\n",
       "      <td>L</td>\n",
       "    </tr>\n",
       "  </tbody>\n",
       "</table>\n",
       "</div>"
      ],
      "text/plain": [
       "     work_year experience_level employment_type          job_title   salary  \\\n",
       "ID                                                                            \n",
       "2         2020               SE              FT  Big Data Engineer    85000   \n",
       "17        2020               SE              FT  Big Data Engineer   100000   \n",
       "31        2020               EN              FT  Big Data Engineer    70000   \n",
       "120       2021               MI              FT  Big Data Engineer    60000   \n",
       "180       2021               MI              FT  Big Data Engineer  1672000   \n",
       "192       2021               MI              FT  Big Data Engineer    18000   \n",
       "213       2021               EN              FT  Big Data Engineer   435000   \n",
       "230       2021               EN              FT  Big Data Engineer  1200000   \n",
       "\n",
       "    salary_currency  salary_in_usd employee_residence  remote_ratio  \\\n",
       "ID                                                                    \n",
       "2               GBP         109024                 GB            50   \n",
       "17              EUR         114047                 PL           100   \n",
       "31              USD          70000                 US           100   \n",
       "120             USD          60000                 ES            50   \n",
       "180             INR          22611                 IN             0   \n",
       "192             USD          18000                 MD             0   \n",
       "213             INR           5882                 IN             0   \n",
       "230             INR          16228                 IN           100   \n",
       "\n",
       "    company_location company_size  \n",
       "ID                                 \n",
       "2                 GB            M  \n",
       "17                GB            S  \n",
       "31                US            L  \n",
       "120               RO            M  \n",
       "180               IN            L  \n",
       "192               MD            S  \n",
       "213               CH            L  \n",
       "230               IN            L  "
      ]
     },
     "execution_count": 15,
     "metadata": {},
     "output_type": "execute_result"
    }
   ],
   "source": [
    "data_engineers[data_engineers['job_title'].str.contains('Big') == True]"
   ]
  },
  {
   "cell_type": "code",
   "execution_count": 17,
   "id": "84f0075c",
   "metadata": {},
   "outputs": [],
   "source": [
    "drop_index = (data_engineers[data_engineers['job_title'].str.contains('Big') == True]).index"
   ]
  },
  {
   "cell_type": "code",
   "execution_count": 18,
   "id": "e7c49cbf",
   "metadata": {},
   "outputs": [],
   "source": [
    "data_engineers.drop(index = drop_index, inplace = True)"
   ]
  },
  {
   "cell_type": "markdown",
   "id": "8e4bd490",
   "metadata": {},
   "source": [
    "The edited DataFrame with only the \"original\" Data Engineers data"
   ]
  },
  {
   "cell_type": "code",
   "execution_count": 19,
   "id": "6f72ef5b",
   "metadata": {},
   "outputs": [
    {
     "data": {
      "text/html": [
       "<div>\n",
       "<style scoped>\n",
       "    .dataframe tbody tr th:only-of-type {\n",
       "        vertical-align: middle;\n",
       "    }\n",
       "\n",
       "    .dataframe tbody tr th {\n",
       "        vertical-align: top;\n",
       "    }\n",
       "\n",
       "    .dataframe thead th {\n",
       "        text-align: right;\n",
       "    }\n",
       "</style>\n",
       "<table border=\"1\" class=\"dataframe\">\n",
       "  <thead>\n",
       "    <tr style=\"text-align: right;\">\n",
       "      <th></th>\n",
       "      <th>work_year</th>\n",
       "      <th>experience_level</th>\n",
       "      <th>employment_type</th>\n",
       "      <th>job_title</th>\n",
       "      <th>salary</th>\n",
       "      <th>salary_currency</th>\n",
       "      <th>salary_in_usd</th>\n",
       "      <th>employee_residence</th>\n",
       "      <th>remote_ratio</th>\n",
       "      <th>company_location</th>\n",
       "      <th>company_size</th>\n",
       "    </tr>\n",
       "    <tr>\n",
       "      <th>ID</th>\n",
       "      <th></th>\n",
       "      <th></th>\n",
       "      <th></th>\n",
       "      <th></th>\n",
       "      <th></th>\n",
       "      <th></th>\n",
       "      <th></th>\n",
       "      <th></th>\n",
       "      <th></th>\n",
       "      <th></th>\n",
       "      <th></th>\n",
       "    </tr>\n",
       "  </thead>\n",
       "  <tbody>\n",
       "    <tr>\n",
       "      <th>9</th>\n",
       "      <td>2020</td>\n",
       "      <td>SE</td>\n",
       "      <td>FT</td>\n",
       "      <td>Lead Data Engineer</td>\n",
       "      <td>125000</td>\n",
       "      <td>USD</td>\n",
       "      <td>125000</td>\n",
       "      <td>NZ</td>\n",
       "      <td>50</td>\n",
       "      <td>NZ</td>\n",
       "      <td>S</td>\n",
       "    </tr>\n",
       "    <tr>\n",
       "      <th>16</th>\n",
       "      <td>2020</td>\n",
       "      <td>EN</td>\n",
       "      <td>FT</td>\n",
       "      <td>Data Engineer</td>\n",
       "      <td>4450000</td>\n",
       "      <td>JPY</td>\n",
       "      <td>41689</td>\n",
       "      <td>JP</td>\n",
       "      <td>100</td>\n",
       "      <td>JP</td>\n",
       "      <td>S</td>\n",
       "    </tr>\n",
       "    <tr>\n",
       "      <th>19</th>\n",
       "      <td>2020</td>\n",
       "      <td>MI</td>\n",
       "      <td>FT</td>\n",
       "      <td>Lead Data Engineer</td>\n",
       "      <td>56000</td>\n",
       "      <td>USD</td>\n",
       "      <td>56000</td>\n",
       "      <td>PT</td>\n",
       "      <td>100</td>\n",
       "      <td>US</td>\n",
       "      <td>M</td>\n",
       "    </tr>\n",
       "    <tr>\n",
       "      <th>22</th>\n",
       "      <td>2020</td>\n",
       "      <td>SE</td>\n",
       "      <td>FT</td>\n",
       "      <td>Data Engineer</td>\n",
       "      <td>42000</td>\n",
       "      <td>EUR</td>\n",
       "      <td>47899</td>\n",
       "      <td>GR</td>\n",
       "      <td>50</td>\n",
       "      <td>GR</td>\n",
       "      <td>L</td>\n",
       "    </tr>\n",
       "    <tr>\n",
       "      <th>27</th>\n",
       "      <td>2020</td>\n",
       "      <td>SE</td>\n",
       "      <td>FT</td>\n",
       "      <td>Data Engineer</td>\n",
       "      <td>720000</td>\n",
       "      <td>MXN</td>\n",
       "      <td>33511</td>\n",
       "      <td>MX</td>\n",
       "      <td>0</td>\n",
       "      <td>MX</td>\n",
       "      <td>S</td>\n",
       "    </tr>\n",
       "    <tr>\n",
       "      <th>...</th>\n",
       "      <td>...</td>\n",
       "      <td>...</td>\n",
       "      <td>...</td>\n",
       "      <td>...</td>\n",
       "      <td>...</td>\n",
       "      <td>...</td>\n",
       "      <td>...</td>\n",
       "      <td>...</td>\n",
       "      <td>...</td>\n",
       "      <td>...</td>\n",
       "      <td>...</td>\n",
       "    </tr>\n",
       "    <tr>\n",
       "      <th>579</th>\n",
       "      <td>2022</td>\n",
       "      <td>SE</td>\n",
       "      <td>FT</td>\n",
       "      <td>Data Engineer</td>\n",
       "      <td>25000</td>\n",
       "      <td>USD</td>\n",
       "      <td>25000</td>\n",
       "      <td>US</td>\n",
       "      <td>100</td>\n",
       "      <td>US</td>\n",
       "      <td>M</td>\n",
       "    </tr>\n",
       "    <tr>\n",
       "      <th>582</th>\n",
       "      <td>2022</td>\n",
       "      <td>SE</td>\n",
       "      <td>FT</td>\n",
       "      <td>Data Engineer</td>\n",
       "      <td>220110</td>\n",
       "      <td>USD</td>\n",
       "      <td>220110</td>\n",
       "      <td>US</td>\n",
       "      <td>100</td>\n",
       "      <td>US</td>\n",
       "      <td>M</td>\n",
       "    </tr>\n",
       "    <tr>\n",
       "      <th>583</th>\n",
       "      <td>2022</td>\n",
       "      <td>SE</td>\n",
       "      <td>FT</td>\n",
       "      <td>Data Engineer</td>\n",
       "      <td>160080</td>\n",
       "      <td>USD</td>\n",
       "      <td>160080</td>\n",
       "      <td>US</td>\n",
       "      <td>100</td>\n",
       "      <td>US</td>\n",
       "      <td>M</td>\n",
       "    </tr>\n",
       "    <tr>\n",
       "      <th>602</th>\n",
       "      <td>2022</td>\n",
       "      <td>SE</td>\n",
       "      <td>FT</td>\n",
       "      <td>Data Engineer</td>\n",
       "      <td>154000</td>\n",
       "      <td>USD</td>\n",
       "      <td>154000</td>\n",
       "      <td>US</td>\n",
       "      <td>100</td>\n",
       "      <td>US</td>\n",
       "      <td>M</td>\n",
       "    </tr>\n",
       "    <tr>\n",
       "      <th>603</th>\n",
       "      <td>2022</td>\n",
       "      <td>SE</td>\n",
       "      <td>FT</td>\n",
       "      <td>Data Engineer</td>\n",
       "      <td>126000</td>\n",
       "      <td>USD</td>\n",
       "      <td>126000</td>\n",
       "      <td>US</td>\n",
       "      <td>100</td>\n",
       "      <td>US</td>\n",
       "      <td>M</td>\n",
       "    </tr>\n",
       "  </tbody>\n",
       "</table>\n",
       "<p>150 rows × 11 columns</p>\n",
       "</div>"
      ],
      "text/plain": [
       "     work_year experience_level employment_type           job_title   salary  \\\n",
       "ID                                                                             \n",
       "9         2020               SE              FT  Lead Data Engineer   125000   \n",
       "16        2020               EN              FT       Data Engineer  4450000   \n",
       "19        2020               MI              FT  Lead Data Engineer    56000   \n",
       "22        2020               SE              FT       Data Engineer    42000   \n",
       "27        2020               SE              FT       Data Engineer   720000   \n",
       "..         ...              ...             ...                 ...      ...   \n",
       "579       2022               SE              FT       Data Engineer    25000   \n",
       "582       2022               SE              FT       Data Engineer   220110   \n",
       "583       2022               SE              FT       Data Engineer   160080   \n",
       "602       2022               SE              FT       Data Engineer   154000   \n",
       "603       2022               SE              FT       Data Engineer   126000   \n",
       "\n",
       "    salary_currency  salary_in_usd employee_residence  remote_ratio  \\\n",
       "ID                                                                    \n",
       "9               USD         125000                 NZ            50   \n",
       "16              JPY          41689                 JP           100   \n",
       "19              USD          56000                 PT           100   \n",
       "22              EUR          47899                 GR            50   \n",
       "27              MXN          33511                 MX             0   \n",
       "..              ...            ...                ...           ...   \n",
       "579             USD          25000                 US           100   \n",
       "582             USD         220110                 US           100   \n",
       "583             USD         160080                 US           100   \n",
       "602             USD         154000                 US           100   \n",
       "603             USD         126000                 US           100   \n",
       "\n",
       "    company_location company_size  \n",
       "ID                                 \n",
       "9                 NZ            S  \n",
       "16                JP            S  \n",
       "19                US            M  \n",
       "22                GR            L  \n",
       "27                MX            S  \n",
       "..               ...          ...  \n",
       "579               US            M  \n",
       "582               US            M  \n",
       "583               US            M  \n",
       "602               US            M  \n",
       "603               US            M  \n",
       "\n",
       "[150 rows x 11 columns]"
      ]
     },
     "execution_count": 19,
     "metadata": {},
     "output_type": "execute_result"
    }
   ],
   "source": [
    "data_engineers"
   ]
  },
  {
   "cell_type": "markdown",
   "id": "2fc63c23",
   "metadata": {},
   "source": [
    "The unique job titles in every DataFrame that I created earlier"
   ]
  },
  {
   "cell_type": "code",
   "execution_count": 20,
   "id": "8d909072",
   "metadata": {},
   "outputs": [
    {
     "data": {
      "text/plain": [
       "array(['Lead Data Engineer', 'Data Engineer', 'Data Engineering Manager',\n",
       "       'Cloud Data Engineer', 'Director of Data Engineering',\n",
       "       'Principal Data Engineer'], dtype=object)"
      ]
     },
     "execution_count": 20,
     "metadata": {},
     "output_type": "execute_result"
    }
   ],
   "source": [
    "data_engineers['job_title'].unique()"
   ]
  },
  {
   "cell_type": "code",
   "execution_count": 103,
   "id": "49fe079a",
   "metadata": {},
   "outputs": [
    {
     "data": {
      "text/plain": [
       "array(['Data Scientist', 'Lead Data Scientist',\n",
       "       'Principal Data Scientist', 'Applied Data Scientist',\n",
       "       'Staff Data Scientist'], dtype=object)"
      ]
     },
     "execution_count": 103,
     "metadata": {},
     "output_type": "execute_result"
    }
   ],
   "source": [
    "data_scientists['job_title'].unique()"
   ]
  },
  {
   "cell_type": "code",
   "execution_count": 104,
   "id": "b5697d1f",
   "metadata": {},
   "outputs": [
    {
     "data": {
      "text/plain": [
       "array(['Product Data Analyst', 'Data Analyst', 'Business Data Analyst',\n",
       "       'Lead Data Analyst', 'BI Data Analyst', 'Marketing Data Analyst',\n",
       "       'Financial Data Analyst', 'Finance Data Analyst',\n",
       "       'Principal Data Analyst'], dtype=object)"
      ]
     },
     "execution_count": 104,
     "metadata": {},
     "output_type": "execute_result"
    }
   ],
   "source": [
    "data_analysts['job_title'].unique()"
   ]
  },
  {
   "cell_type": "markdown",
   "id": "f2bb3237",
   "metadata": {},
   "source": [
    "Calculating the average salaries in each field"
   ]
  },
  {
   "cell_type": "code",
   "execution_count": 21,
   "id": "eeff131d",
   "metadata": {},
   "outputs": [],
   "source": [
    "data_engineer_avg_salary = data_engineers['salary'].mean()"
   ]
  },
  {
   "cell_type": "code",
   "execution_count": 22,
   "id": "4b5424f6",
   "metadata": {},
   "outputs": [],
   "source": [
    "data_scientist_avg_salary = data_scientists['salary'].mean()"
   ]
  },
  {
   "cell_type": "code",
   "execution_count": 23,
   "id": "904bb667",
   "metadata": {},
   "outputs": [],
   "source": [
    "data_analysts_avg_salary = data_analysts['salary'].mean()"
   ]
  },
  {
   "cell_type": "code",
   "execution_count": 24,
   "id": "60be6a73",
   "metadata": {},
   "outputs": [
    {
     "data": {
      "text/plain": [
       "177628.61333333334"
      ]
     },
     "execution_count": 24,
     "metadata": {},
     "output_type": "execute_result"
    }
   ],
   "source": [
    "data_engineer_avg_salary"
   ]
  },
  {
   "cell_type": "code",
   "execution_count": 25,
   "id": "25c949ba",
   "metadata": {},
   "outputs": [
    {
     "data": {
      "text/plain": [
       "493161.320754717"
      ]
     },
     "execution_count": 25,
     "metadata": {},
     "output_type": "execute_result"
    }
   ],
   "source": [
    "data_scientist_avg_salary"
   ]
  },
  {
   "cell_type": "code",
   "execution_count": 26,
   "id": "8cc7c0b6",
   "metadata": {},
   "outputs": [
    {
     "data": {
      "text/plain": [
       "215545.82352941178"
      ]
     },
     "execution_count": 26,
     "metadata": {},
     "output_type": "execute_result"
    }
   ],
   "source": [
    "data_analysts_avg_salary"
   ]
  },
  {
   "cell_type": "markdown",
   "id": "5b44de83",
   "metadata": {},
   "source": [
    "Creating a bar chart with the calculated average salaries"
   ]
  },
  {
   "cell_type": "code",
   "execution_count": 27,
   "id": "56be3179",
   "metadata": {},
   "outputs": [],
   "source": [
    "bar_salary_names_avg = [\"Data Analyst\", \"Data Engineer\", \"Data Scientist\"]"
   ]
  },
  {
   "cell_type": "code",
   "execution_count": 31,
   "id": "9b6fa161",
   "metadata": {},
   "outputs": [],
   "source": [
    "bar_salary_avg = [data_analysts_avg_salary, data_engineer_avg_salary, data_scientist_avg_salary]"
   ]
  },
  {
   "cell_type": "code",
   "execution_count": 37,
   "id": "7ee7f871",
   "metadata": {
    "scrolled": true
   },
   "outputs": [
    {
     "data": {
      "image/png": "[encoded data removed]",
      "text/plain": [
       "<Figure size 1000x500 with 1 Axes>"
      ]
     },
     "metadata": {},
     "output_type": "display_data"
    }
   ],
   "source": [
    "fig = plt.figure(figsize = (10, 5))\n",
    "plt.bar(bar_salary_names_avg, bar_salary_avg)\n",
    "plt.xlabel('The name of the fields')\n",
    "plt.ylabel('Salaries')\n",
    "\n",
    "plt.title('The average salaries of each field of data positions')\n",
    "plt.show()"
   ]
  },
  {
   "cell_type": "markdown",
   "id": "a6acfc21",
   "metadata": {},
   "source": [
    "**Making a chart which represents the relationship between the remote ratio and the salaries**"
   ]
  },
  {
   "cell_type": "code",
   "execution_count": 44,
   "id": "c0e191d3",
   "metadata": {},
   "outputs": [],
   "source": [
    "null_remote = salaries_df[salaries_df['remote_ratio'] == 0]\n",
    "half_remote = salaries_df[salaries_df['remote_ratio'] == 50]\n",
    "full_remote = salaries_df[salaries_df['remote_ratio'] == 100]"
   ]
  },
  {
   "cell_type": "code",
   "execution_count": 48,
   "id": "f30a7f7c",
   "metadata": {
    "collapsed": true
   },
   "outputs": [
    {
     "data": {
      "text/plain": [
       "106354.62204724409"
      ]
     },
     "execution_count": 48,
     "metadata": {},
     "output_type": "execute_result"
    }
   ],
   "source": [
    "null_remote['salary_in_usd'].mean()"
   ]
  },
  {
   "cell_type": "code",
   "execution_count": 47,
   "id": "0efb4581",
   "metadata": {
    "collapsed": true
   },
   "outputs": [
    {
     "data": {
      "text/plain": [
       "80823.0303030303"
      ]
     },
     "execution_count": 47,
     "metadata": {},
     "output_type": "execute_result"
    }
   ],
   "source": [
    "half_remote['salary_in_usd'].mean()"
   ]
  },
  {
   "cell_type": "code",
   "execution_count": 46,
   "id": "7fa28a1e",
   "metadata": {
    "collapsed": true
   },
   "outputs": [
    {
     "data": {
      "text/plain": [
       "122457.45406824147"
      ]
     },
     "execution_count": 46,
     "metadata": {},
     "output_type": "execute_result"
    }
   ],
   "source": [
    "full_remote['salary_in_usd'].mean()"
   ]
  },
  {
   "cell_type": "code",
   "execution_count": 65,
   "id": "183a210d",
   "metadata": {},
   "outputs": [],
   "source": [
    "pie_chart_salaries = [null_remote['salary_in_usd'].mean(), half_remote['salary_in_usd'].mean(), full_remote['salary_in_usd'].mean()]\n",
    "pie_chart_labels = [0,50, 100]"
   ]
  },
  {
   "cell_type": "code",
   "execution_count": 69,
   "id": "fb3e8b54",
   "metadata": {},
   "outputs": [
    {
     "data": {
      "image/png": "[encoded data removed]",
      "text/plain": [
       "<Figure size 1200x600 with 1 Axes>"
      ]
     },
     "metadata": {},
     "output_type": "display_data"
    }
   ],
   "source": [
    "fig = plt.figure(figsize = (12, 6))\n",
    "\n",
    "plt.pie(pie_chart_salaries, labels = pie_chart_labels, autopct='%1.1f%%')\n",
    "plt.legend(pie_chart_labels)\n",
    "plt.title(\"The distribution of salaries between the remote ratios\")\n",
    "\n",
    "plt.show()"
   ]
  },
  {
   "cell_type": "markdown",
   "id": "2f6a311a",
   "metadata": {},
   "source": [
    "**Making a chart which represents the specific Data Science job salaries**"
   ]
  },
  {
   "cell_type": "markdown",
   "id": "bf6199c3",
   "metadata": {},
   "source": [
    "First of all, display the unique job titles"
   ]
  },
  {
   "cell_type": "code",
   "execution_count": 72,
   "id": "ee8c8cd9",
   "metadata": {},
   "outputs": [],
   "source": [
    "specific_ds_job_titles = data_scientists['job_title'].unique()"
   ]
  },
  {
   "cell_type": "code",
   "execution_count": 73,
   "id": "1567430e",
   "metadata": {},
   "outputs": [
    {
     "data": {
      "text/plain": [
       "array(['Data Scientist', 'Lead Data Scientist',\n",
       "       'Principal Data Scientist', 'Applied Data Scientist',\n",
       "       'Staff Data Scientist'], dtype=object)"
      ]
     },
     "execution_count": 73,
     "metadata": {},
     "output_type": "execute_result"
    }
   ],
   "source": [
    "specific_ds_job_titles"
   ]
  },
  {
   "cell_type": "markdown",
   "id": "c812cfa7",
   "metadata": {},
   "source": [
    "Moving the unique titles to a new array"
   ]
  },
  {
   "cell_type": "code",
   "execution_count": 94,
   "id": "56247323",
   "metadata": {},
   "outputs": [],
   "source": [
    "i = 0\n",
    "\n",
    "separated_ds_job_titles = []\n",
    "\n",
    "while i != specific_ds_job_titles.size:\n",
    "    separated_ds_job_titles.append(data_scientists[data_scientists['job_title']==specific_ds_job_titles[i]])\n",
    "    \n",
    "    i += 1"
   ]
  },
  {
   "cell_type": "markdown",
   "id": "6151ff43",
   "metadata": {},
   "source": [
    "Collect the salaries for the plotting"
   ]
  },
  {
   "cell_type": "code",
   "execution_count": 133,
   "id": "88b9e43a",
   "metadata": {},
   "outputs": [],
   "source": [
    "bar_2d_salaries = []\n",
    "\n",
    "for j in range (i):\n",
    "    bar_2d_salaries.append(separated_ds_job_titles[j]['salary_in_usd'].mean())"
   ]
  },
  {
   "cell_type": "code",
   "execution_count": 134,
   "id": "99445e4f",
   "metadata": {},
   "outputs": [
    {
     "data": {
      "text/plain": [
       "[108187.83216783217, 115190.0, 215242.42857142858, 175655.0, 105000.0]"
      ]
     },
     "execution_count": 134,
     "metadata": {},
     "output_type": "execute_result"
    }
   ],
   "source": [
    "bar_2d_salaries"
   ]
  },
  {
   "cell_type": "code",
   "execution_count": 146,
   "id": "65a188d5",
   "metadata": {},
   "outputs": [
    {
     "data": {
      "text/plain": [
       "array(['Data Scientist', 'Lead Data Scientist',\n",
       "       'Principal Data Scientist', 'Applied Data Scientist',\n",
       "       'Staff Data Scientist'], dtype=object)"
      ]
     },
     "execution_count": 146,
     "metadata": {},
     "output_type": "execute_result"
    }
   ],
   "source": [
    "specific_ds_job_titles"
   ]
  },
  {
   "cell_type": "code",
   "execution_count": 149,
   "id": "ab574048",
   "metadata": {},
   "outputs": [
    {
     "data": {
      "text/plain": [
       "<BarContainer object of 5 artists>"
      ]
     },
     "execution_count": 149,
     "metadata": {},
     "output_type": "execute_result"
    },
    {
     "data": {
      "image/png": "[encoded data removed]",
      "text/plain": [
       "<Figure size 640x480 with 1 Axes>"
      ]
     },
     "metadata": {},
     "output_type": "display_data"
    }
   ],
   "source": [
    "plt.barh(specific_ds_job_titles, bar_2d_salaries)"
   ]
  },
  {
   "cell_type": "markdown",
   "id": "43bad31c",
   "metadata": {},
   "source": [
    "**Making a chart which represents the relationship between the years and the salaries**"
   ]
  },
  {
   "cell_type": "code",
   "execution_count": 7,
   "id": "a078bc81",
   "metadata": {},
   "outputs": [
    {
     "data": {
      "text/html": [
       "<div>\n",
       "<style scoped>\n",
       "    .dataframe tbody tr th:only-of-type {\n",
       "        vertical-align: middle;\n",
       "    }\n",
       "\n",
       "    .dataframe tbody tr th {\n",
       "        vertical-align: top;\n",
       "    }\n",
       "\n",
       "    .dataframe thead th {\n",
       "        text-align: right;\n",
       "    }\n",
       "</style>\n",
       "<table border=\"1\" class=\"dataframe\">\n",
       "  <thead>\n",
       "    <tr style=\"text-align: right;\">\n",
       "      <th></th>\n",
       "      <th>work_year</th>\n",
       "      <th>experience_level</th>\n",
       "      <th>employment_type</th>\n",
       "      <th>job_title</th>\n",
       "      <th>salary</th>\n",
       "      <th>salary_currency</th>\n",
       "      <th>salary_in_usd</th>\n",
       "      <th>employee_residence</th>\n",
       "      <th>remote_ratio</th>\n",
       "      <th>company_location</th>\n",
       "      <th>company_size</th>\n",
       "    </tr>\n",
       "  </thead>\n",
       "  <tbody>\n",
       "    <tr>\n",
       "      <th>0</th>\n",
       "      <td>2020</td>\n",
       "      <td>MI</td>\n",
       "      <td>FT</td>\n",
       "      <td>Data Scientist</td>\n",
       "      <td>70000</td>\n",
       "      <td>EUR</td>\n",
       "      <td>79833</td>\n",
       "      <td>DE</td>\n",
       "      <td>0</td>\n",
       "      <td>DE</td>\n",
       "      <td>L</td>\n",
       "    </tr>\n",
       "    <tr>\n",
       "      <th>6</th>\n",
       "      <td>2020</td>\n",
       "      <td>SE</td>\n",
       "      <td>FT</td>\n",
       "      <td>Lead Data Scientist</td>\n",
       "      <td>190000</td>\n",
       "      <td>USD</td>\n",
       "      <td>190000</td>\n",
       "      <td>US</td>\n",
       "      <td>100</td>\n",
       "      <td>US</td>\n",
       "      <td>S</td>\n",
       "    </tr>\n",
       "    <tr>\n",
       "      <th>7</th>\n",
       "      <td>2020</td>\n",
       "      <td>MI</td>\n",
       "      <td>FT</td>\n",
       "      <td>Data Scientist</td>\n",
       "      <td>11000000</td>\n",
       "      <td>HUF</td>\n",
       "      <td>35735</td>\n",
       "      <td>HU</td>\n",
       "      <td>50</td>\n",
       "      <td>HU</td>\n",
       "      <td>L</td>\n",
       "    </tr>\n",
       "    <tr>\n",
       "      <th>10</th>\n",
       "      <td>2020</td>\n",
       "      <td>EN</td>\n",
       "      <td>FT</td>\n",
       "      <td>Data Scientist</td>\n",
       "      <td>45000</td>\n",
       "      <td>EUR</td>\n",
       "      <td>51321</td>\n",
       "      <td>FR</td>\n",
       "      <td>0</td>\n",
       "      <td>FR</td>\n",
       "      <td>S</td>\n",
       "    </tr>\n",
       "    <tr>\n",
       "      <th>11</th>\n",
       "      <td>2020</td>\n",
       "      <td>MI</td>\n",
       "      <td>FT</td>\n",
       "      <td>Data Scientist</td>\n",
       "      <td>3000000</td>\n",
       "      <td>INR</td>\n",
       "      <td>40481</td>\n",
       "      <td>IN</td>\n",
       "      <td>0</td>\n",
       "      <td>IN</td>\n",
       "      <td>L</td>\n",
       "    </tr>\n",
       "    <tr>\n",
       "      <th>...</th>\n",
       "      <td>...</td>\n",
       "      <td>...</td>\n",
       "      <td>...</td>\n",
       "      <td>...</td>\n",
       "      <td>...</td>\n",
       "      <td>...</td>\n",
       "      <td>...</td>\n",
       "      <td>...</td>\n",
       "      <td>...</td>\n",
       "      <td>...</td>\n",
       "      <td>...</td>\n",
       "    </tr>\n",
       "    <tr>\n",
       "      <th>592</th>\n",
       "      <td>2022</td>\n",
       "      <td>SE</td>\n",
       "      <td>FT</td>\n",
       "      <td>Data Scientist</td>\n",
       "      <td>230000</td>\n",
       "      <td>USD</td>\n",
       "      <td>230000</td>\n",
       "      <td>US</td>\n",
       "      <td>100</td>\n",
       "      <td>US</td>\n",
       "      <td>M</td>\n",
       "    </tr>\n",
       "    <tr>\n",
       "      <th>593</th>\n",
       "      <td>2022</td>\n",
       "      <td>SE</td>\n",
       "      <td>FT</td>\n",
       "      <td>Data Scientist</td>\n",
       "      <td>150000</td>\n",
       "      <td>USD</td>\n",
       "      <td>150000</td>\n",
       "      <td>US</td>\n",
       "      <td>100</td>\n",
       "      <td>US</td>\n",
       "      <td>M</td>\n",
       "    </tr>\n",
       "    <tr>\n",
       "      <th>596</th>\n",
       "      <td>2022</td>\n",
       "      <td>SE</td>\n",
       "      <td>FT</td>\n",
       "      <td>Data Scientist</td>\n",
       "      <td>210000</td>\n",
       "      <td>USD</td>\n",
       "      <td>210000</td>\n",
       "      <td>US</td>\n",
       "      <td>100</td>\n",
       "      <td>US</td>\n",
       "      <td>M</td>\n",
       "    </tr>\n",
       "    <tr>\n",
       "      <th>598</th>\n",
       "      <td>2022</td>\n",
       "      <td>MI</td>\n",
       "      <td>FT</td>\n",
       "      <td>Data Scientist</td>\n",
       "      <td>160000</td>\n",
       "      <td>USD</td>\n",
       "      <td>160000</td>\n",
       "      <td>US</td>\n",
       "      <td>100</td>\n",
       "      <td>US</td>\n",
       "      <td>M</td>\n",
       "    </tr>\n",
       "    <tr>\n",
       "      <th>599</th>\n",
       "      <td>2022</td>\n",
       "      <td>MI</td>\n",
       "      <td>FT</td>\n",
       "      <td>Data Scientist</td>\n",
       "      <td>130000</td>\n",
       "      <td>USD</td>\n",
       "      <td>130000</td>\n",
       "      <td>US</td>\n",
       "      <td>100</td>\n",
       "      <td>US</td>\n",
       "      <td>M</td>\n",
       "    </tr>\n",
       "  </tbody>\n",
       "</table>\n",
       "<p>159 rows × 11 columns</p>\n",
       "</div>"
      ],
      "text/plain": [
       "     work_year experience_level employment_type            job_title  \\\n",
       "0         2020               MI              FT       Data Scientist   \n",
       "6         2020               SE              FT  Lead Data Scientist   \n",
       "7         2020               MI              FT       Data Scientist   \n",
       "10        2020               EN              FT       Data Scientist   \n",
       "11        2020               MI              FT       Data Scientist   \n",
       "..         ...              ...             ...                  ...   \n",
       "592       2022               SE              FT       Data Scientist   \n",
       "593       2022               SE              FT       Data Scientist   \n",
       "596       2022               SE              FT       Data Scientist   \n",
       "598       2022               MI              FT       Data Scientist   \n",
       "599       2022               MI              FT       Data Scientist   \n",
       "\n",
       "       salary salary_currency  salary_in_usd employee_residence  remote_ratio  \\\n",
       "0       70000             EUR          79833                 DE             0   \n",
       "6      190000             USD         190000                 US           100   \n",
       "7    11000000             HUF          35735                 HU            50   \n",
       "10      45000             EUR          51321                 FR             0   \n",
       "11    3000000             INR          40481                 IN             0   \n",
       "..        ...             ...            ...                ...           ...   \n",
       "592    230000             USD         230000                 US           100   \n",
       "593    150000             USD         150000                 US           100   \n",
       "596    210000             USD         210000                 US           100   \n",
       "598    160000             USD         160000                 US           100   \n",
       "599    130000             USD         130000                 US           100   \n",
       "\n",
       "    company_location company_size  \n",
       "0                 DE            L  \n",
       "6                 US            S  \n",
       "7                 HU            L  \n",
       "10                FR            S  \n",
       "11                IN            L  \n",
       "..               ...          ...  \n",
       "592               US            M  \n",
       "593               US            M  \n",
       "596               US            M  \n",
       "598               US            M  \n",
       "599               US            M  \n",
       "\n",
       "[159 rows x 11 columns]"
      ]
     },
     "execution_count": 7,
     "metadata": {},
     "output_type": "execute_result"
    }
   ],
   "source": [
    "data_scientists"
   ]
  },
  {
   "cell_type": "code",
   "execution_count": 11,
   "id": "256bd2a1",
   "metadata": {},
   "outputs": [],
   "source": [
    "years = [2020,2021,2022]"
   ]
  },
  {
   "cell_type": "code",
   "execution_count": 12,
   "id": "14369c0c",
   "metadata": {},
   "outputs": [
    {
     "data": {
      "text/plain": [
       "[2020, 2021, 2022]"
      ]
     },
     "execution_count": 12,
     "metadata": {},
     "output_type": "execute_result"
    }
   ],
   "source": [
    "years"
   ]
  },
  {
   "cell_type": "code",
   "execution_count": 34,
   "id": "ea9cee77",
   "metadata": {},
   "outputs": [
    {
     "data": {
      "text/plain": [
       "[    work_year experience_level employment_type                 job_title  \\\n",
       " 0        2020               MI              FT            Data Scientist   \n",
       " 6        2020               SE              FT       Lead Data Scientist   \n",
       " 7        2020               MI              FT            Data Scientist   \n",
       " 10       2020               EN              FT            Data Scientist   \n",
       " 11       2020               MI              FT            Data Scientist   \n",
       " 12       2020               EN              FT            Data Scientist   \n",
       " 24       2020               MI              FT       Lead Data Scientist   \n",
       " 32       2020               SE              FT            Data Scientist   \n",
       " 40       2020               MI              FT            Data Scientist   \n",
       " 46       2020               MI              FT            Data Scientist   \n",
       " 48       2020               MI              FT            Data Scientist   \n",
       " 55       2020               SE              FT  Principal Data Scientist   \n",
       " 56       2020               MI              FT            Data Scientist   \n",
       " 57       2020               MI              FT            Data Scientist   \n",
       " 58       2020               SE              FT            Data Scientist   \n",
       " 59       2020               MI              FT            Data Scientist   \n",
       " 62       2020               EN              PT            Data Scientist   \n",
       " 63       2020               SE              FT            Data Scientist   \n",
       " 65       2020               EN              FT            Data Scientist   \n",
       " 66       2020               EN              FT            Data Scientist   \n",
       " 68       2020               EN              FT            Data Scientist   \n",
       " 69       2020               SE              FT            Data Scientist   \n",
       " 70       2020               MI              FT            Data Scientist   \n",
       " 71       2020               MI              FT            Data Scientist   \n",
       " \n",
       "       salary salary_currency  salary_in_usd employee_residence  remote_ratio  \\\n",
       " 0      70000             EUR          79833                 DE             0   \n",
       " 6     190000             USD         190000                 US           100   \n",
       " 7   11000000             HUF          35735                 HU            50   \n",
       " 10     45000             EUR          51321                 FR             0   \n",
       " 11   3000000             INR          40481                 IN             0   \n",
       " 12     35000             EUR          39916                 FR             0   \n",
       " 24    115000             USD         115000                 AE             0   \n",
       " 32     60000             EUR          68428                 GR           100   \n",
       " 40     45760             USD          45760                 PH           100   \n",
       " 46     60000             GBP          76958                 GB           100   \n",
       " 48    105000             USD         105000                 US           100   \n",
       " 55    130000             EUR         148261                 DE           100   \n",
       " 56     34000             EUR          38776                 ES           100   \n",
       " 57    118000             USD         118000                 US           100   \n",
       " 58    120000             USD         120000                 US            50   \n",
       " 59    138350             USD         138350                 US           100   \n",
       " 62     19000             EUR          21669                 IT            50   \n",
       " 63    412000             USD         412000                 US           100   \n",
       " 65     55000             EUR          62726                 DE            50   \n",
       " 66     43200             EUR          49268                 DE             0   \n",
       " 68    105000             USD         105000                 US           100   \n",
       " 69     80000             EUR          91237                 AT             0   \n",
       " 70     55000             EUR          62726                 FR            50   \n",
       " 71     37000             EUR          42197                 FR            50   \n",
       " \n",
       "    company_location company_size  \n",
       " 0                DE            L  \n",
       " 6                US            S  \n",
       " 7                HU            L  \n",
       " 10               FR            S  \n",
       " 11               IN            L  \n",
       " 12               FR            M  \n",
       " 24               AE            L  \n",
       " 32               US            L  \n",
       " 40               US            S  \n",
       " 46               GB            S  \n",
       " 48               US            L  \n",
       " 55               DE            M  \n",
       " 56               ES            M  \n",
       " 57               US            M  \n",
       " 58               US            L  \n",
       " 59               US            M  \n",
       " 62               IT            S  \n",
       " 63               US            L  \n",
       " 65               DE            S  \n",
       " 66               DE            S  \n",
       " 68               US            S  \n",
       " 69               AT            S  \n",
       " 70               LU            S  \n",
       " 71               FR            S  ,\n",
       "      work_year experience_level employment_type                 job_title  \\\n",
       " 75        2021               SE              FT            Data Scientist   \n",
       " 82        2021               MI              FT    Applied Data Scientist   \n",
       " 94        2021               EN              FT            Data Scientist   \n",
       " 104       2021               MI              FT            Data Scientist   \n",
       " 116       2021               MI              FT            Data Scientist   \n",
       " 123       2021               EN              FT    Applied Data Scientist   \n",
       " 125       2021               MI              FT  Principal Data Scientist   \n",
       " 127       2021               MI              FT            Data Scientist   \n",
       " 129       2021               SE              FT       Lead Data Scientist   \n",
       " 131       2021               EN              FT            Data Scientist   \n",
       " 134       2021               EN              FT            Data Scientist   \n",
       " 138       2021               SE              FT  Principal Data Scientist   \n",
       " 139       2021               EN              FT            Data Scientist   \n",
       " 143       2021               MI              FT            Data Scientist   \n",
       " 151       2021               MI              FT            Data Scientist   \n",
       " 152       2021               MI              FT            Data Scientist   \n",
       " 153       2021               EN              FT            Data Scientist   \n",
       " 156       2021               MI              FT            Data Scientist   \n",
       " 173       2021               SE              FT  Principal Data Scientist   \n",
       " 176       2021               MI              FT            Data Scientist   \n",
       " 177       2021               MI              FT            Data Scientist   \n",
       " 179       2021               MI              FT            Data Scientist   \n",
       " 181       2021               MI              FT            Data Scientist   \n",
       " 195       2021               MI              FT            Data Scientist   \n",
       " 200       2021               MI              FT            Data Scientist   \n",
       " 202       2021               MI              FT            Data Scientist   \n",
       " 204       2021               MI              FT            Data Scientist   \n",
       " 205       2021               MI              FT            Data Scientist   \n",
       " 217       2021               MI              FT            Data Scientist   \n",
       " 221       2021               MI              FT            Data Scientist   \n",
       " 222       2021               MI              FT            Data Scientist   \n",
       " 223       2021               MI              FT            Data Scientist   \n",
       " 225       2021               EX              CT  Principal Data Scientist   \n",
       " 226       2021               SE              FT            Data Scientist   \n",
       " 227       2021               MI              FT            Data Scientist   \n",
       " 228       2021               SE              FT            Data Scientist   \n",
       " 237       2021               MI              FT            Data Scientist   \n",
       " 238       2021               EN              FT            Data Scientist   \n",
       " 240       2021               SE              FT            Data Scientist   \n",
       " 243       2021               SE              FT            Data Scientist   \n",
       " 246       2021               EN              FT            Data Scientist   \n",
       " 250       2021               MI              FT            Data Scientist   \n",
       " 251       2021               EN              FT            Data Scientist   \n",
       " 253       2021               EN              FT            Data Scientist   \n",
       " 257       2021               SE              FT  Principal Data Scientist   \n",
       " 260       2021               MI              FT            Data Scientist   \n",
       " 262       2021               MI              FT            Data Scientist   \n",
       " 264       2021               MI              FT            Data Scientist   \n",
       " 274       2021               SE              FT            Data Scientist   \n",
       " 275       2021               EN              FT            Data Scientist   \n",
       " 276       2021               EN              FT            Data Scientist   \n",
       " 278       2021               SE              FT            Data Scientist   \n",
       " 283       2021               SE              CT      Staff Data Scientist   \n",
       " 287       2021               MI              FT            Data Scientist   \n",
       " \n",
       "        salary salary_currency  salary_in_usd employee_residence  remote_ratio  \\\n",
       " 75      45000             EUR          53192                 FR            50   \n",
       " 82      68000             CAD          54238                 GB            50   \n",
       " 94    2200000             INR          29751                 IN            50   \n",
       " 104     73000             USD          73000                 US             0   \n",
       " 116     50000             USD          50000                 NG           100   \n",
       " 123     80000             GBP         110037                 GB             0   \n",
       " 125    151000             USD         151000                 US           100   \n",
       " 127    700000             INR           9466                 IN             0   \n",
       " 129   3000000             INR          40570                 IN            50   \n",
       " 131     42000             EUR          49646                 FR            50   \n",
       " 134    100000             USD         100000                 US             0   \n",
       " 138    220000             USD         220000                 US             0   \n",
       " 139     80000             USD          80000                 US           100   \n",
       " 143     82500             USD          82500                 US           100   \n",
       " 151    150000             USD         150000                 US           100   \n",
       " 152     95000             CAD          75774                 CA           100   \n",
       " 153     13400             USD          13400                 UA           100   \n",
       " 156    160000             SGD         119059                 SG           100   \n",
       " 173    235000             USD         235000                 US           100   \n",
       " 176     58000             MXN           2859                 MX             0   \n",
       " 177  30400000             CLP          40038                 CL           100   \n",
       " 179    420000             INR           5679                 IN           100   \n",
       " 181     76760             EUR          90734                 DE            50   \n",
       " 195    147000             USD         147000                 US            50   \n",
       " 200     52000             EUR          61467                 DE            50   \n",
       " 202     32000             EUR          37825                 ES           100   \n",
       " 204    160000             USD         160000                 US           100   \n",
       " 205     69600             BRL          12901                 BR             0   \n",
       " 217     76760             EUR          90734                 DE            50   \n",
       " 221     85000             GBP         116914                 GB            50   \n",
       " 222   2500000             INR          33808                 IN             0   \n",
       " 223     40900             GBP          56256                 GB            50   \n",
       " 225    416000             USD         416000                 US           100   \n",
       " 226    110000             CAD          87738                 CA           100   \n",
       " 227     75000             EUR          88654                 DE            50   \n",
       " 228    135000             USD         135000                 US             0   \n",
       " 237     39600             EUR          46809                 ES           100   \n",
       " 238      4000             USD           4000                 VN             0   \n",
       " 240    130000             CAD         103691                 CA           100   \n",
       " 243    165000             USD         165000                 US           100   \n",
       " 246     31000             EUR          36643                 FR            50   \n",
       " 250    115000             USD         115000                 US            50   \n",
       " 251     90000             USD          90000                 US           100   \n",
       " 253   2100000             INR          28399                 IN           100   \n",
       " 257    147000             EUR         173762                 DE           100   \n",
       " 260    130000             USD         130000                 US            50   \n",
       " 262   1250000             INR          16904                 IN           100   \n",
       " 264     21600             EUR          25532                 RS           100   \n",
       " 274     65720             EUR          77684                 FR            50   \n",
       " 275    100000             USD         100000                 US           100   \n",
       " 276     58000             USD          58000                 US            50   \n",
       " 278    180000             TRY          20171                 TR            50   \n",
       " 283    105000             USD         105000                 US           100   \n",
       " 287    109000             USD         109000                 US            50   \n",
       " \n",
       "     company_location company_size  \n",
       " 75                FR            L  \n",
       " 82                CA            L  \n",
       " 94                IN            L  \n",
       " 104               US            L  \n",
       " 116               NG            L  \n",
       " 123               GB            L  \n",
       " 125               US            L  \n",
       " 127               IN            S  \n",
       " 129               IN            L  \n",
       " 131               FR            M  \n",
       " 134               US            S  \n",
       " 138               US            L  \n",
       " 139               US            M  \n",
       " 143               US            S  \n",
       " 151               US            M  \n",
       " 152               CA            L  \n",
       " 153               UA            L  \n",
       " 156               IL            M  \n",
       " 173               US            L  \n",
       " 176               MX            S  \n",
       " 177               CL            L  \n",
       " 179               US            S  \n",
       " 181               DE            L  \n",
       " 195               US            L  \n",
       " 200               AT            M  \n",
       " 202               ES            L  \n",
       " 204               US            L  \n",
       " 205               BR            S  \n",
       " 217               DE            L  \n",
       " 221               GB            L  \n",
       " 222               IN            M  \n",
       " 223               GB            L  \n",
       " 225               US            S  \n",
       " 226               CA            S  \n",
       " 227               DE            L  \n",
       " 228               US            L  \n",
       " 237               ES            M  \n",
       " 238               VN            M  \n",
       " 240               CA            L  \n",
       " 243               US            L  \n",
       " 246               FR            L  \n",
       " 250               US            L  \n",
       " 251               US            S  \n",
       " 253               IN            M  \n",
       " 257               DE            M  \n",
       " 260               US            L  \n",
       " 262               IN            S  \n",
       " 264               DE            S  \n",
       " 274               FR            M  \n",
       " 275               US            M  \n",
       " 276               US            L  \n",
       " 278               TR            L  \n",
       " 283               US            M  \n",
       " 287               US            L  ,\n",
       "      work_year experience_level employment_type       job_title  salary  \\\n",
       " 292       2022               MI              FT  Data Scientist  130000   \n",
       " 293       2022               MI              FT  Data Scientist   90000   \n",
       " 298       2022               SE              FT  Data Scientist  136620   \n",
       " 299       2022               SE              FT  Data Scientist   99360   \n",
       " 300       2022               SE              FT  Data Scientist   90000   \n",
       " ..         ...              ...             ...             ...     ...   \n",
       " 592       2022               SE              FT  Data Scientist  230000   \n",
       " 593       2022               SE              FT  Data Scientist  150000   \n",
       " 596       2022               SE              FT  Data Scientist  210000   \n",
       " 598       2022               MI              FT  Data Scientist  160000   \n",
       " 599       2022               MI              FT  Data Scientist  130000   \n",
       " \n",
       "     salary_currency  salary_in_usd employee_residence  remote_ratio  \\\n",
       " 292             USD         130000                 US             0   \n",
       " 293             USD          90000                 US             0   \n",
       " 298             USD         136620                 US           100   \n",
       " 299             USD          99360                 US           100   \n",
       " 300             GBP         117789                 GB             0   \n",
       " ..              ...            ...                ...           ...   \n",
       " 592             USD         230000                 US           100   \n",
       " 593             USD         150000                 US           100   \n",
       " 596             USD         210000                 US           100   \n",
       " 598             USD         160000                 US           100   \n",
       " 599             USD         130000                 US           100   \n",
       " \n",
       "     company_location company_size  \n",
       " 292               US            M  \n",
       " 293               US            M  \n",
       " 298               US            M  \n",
       " 299               US            M  \n",
       " 300               GB            M  \n",
       " ..               ...          ...  \n",
       " 592               US            M  \n",
       " 593               US            M  \n",
       " 596               US            M  \n",
       " 598               US            M  \n",
       " 599               US            M  \n",
       " \n",
       " [81 rows x 11 columns]]"
      ]
     },
     "execution_count": 34,
     "metadata": {},
     "output_type": "execute_result"
    }
   ],
   "source": [
    "avg_salary_by_year = []\n",
    "separte_work_year = []\n",
    "\n",
    "for i in years:\n",
    "    separte_work_year.append(data_scientists[data_scientists['work_year'] == i])\n",
    "\n",
    "separte_work_year\n",
    "\n",
    "#for i in years:\n",
    "    #avg_salary_by_year.append(data_scientists[data_scientists['work_year'] == i]['salary_in_usd'].mean)"
   ]
  },
  {
   "cell_type": "code",
   "execution_count": 27,
   "id": "fad43076",
   "metadata": {
    "scrolled": true
   },
   "outputs": [
    {
     "data": {
      "text/plain": [
       "[<bound method NDFrame._add_numeric_operations.<locals>.mean of 0      79833\n",
       " 6     190000\n",
       " 7      35735\n",
       " 10     51321\n",
       " 11     40481\n",
       " 12     39916\n",
       " 24    115000\n",
       " 32     68428\n",
       " 40     45760\n",
       " 46     76958\n",
       " 48    105000\n",
       " 55    148261\n",
       " 56     38776\n",
       " 57    118000\n",
       " 58    120000\n",
       " 59    138350\n",
       " 62     21669\n",
       " 63    412000\n",
       " 65     62726\n",
       " 66     49268\n",
       " 68    105000\n",
       " 69     91237\n",
       " 70     62726\n",
       " 71     42197\n",
       " Name: salary_in_usd, dtype: int64>,\n",
       " <bound method NDFrame._add_numeric_operations.<locals>.mean of 75      53192\n",
       " 82      54238\n",
       " 94      29751\n",
       " 104     73000\n",
       " 116     50000\n",
       " 123    110037\n",
       " 125    151000\n",
       " 127      9466\n",
       " 129     40570\n",
       " 131     49646\n",
       " 134    100000\n",
       " 138    220000\n",
       " 139     80000\n",
       " 143     82500\n",
       " 151    150000\n",
       " 152     75774\n",
       " 153     13400\n",
       " 156    119059\n",
       " 173    235000\n",
       " 176      2859\n",
       " 177     40038\n",
       " 179      5679\n",
       " 181     90734\n",
       " 195    147000\n",
       " 200     61467\n",
       " 202     37825\n",
       " 204    160000\n",
       " 205     12901\n",
       " 217     90734\n",
       " 221    116914\n",
       " 222     33808\n",
       " 223     56256\n",
       " 225    416000\n",
       " 226     87738\n",
       " 227     88654\n",
       " 228    135000\n",
       " 237     46809\n",
       " 238      4000\n",
       " 240    103691\n",
       " 243    165000\n",
       " 246     36643\n",
       " 250    115000\n",
       " 251     90000\n",
       " 253     28399\n",
       " 257    173762\n",
       " 260    130000\n",
       " 262     16904\n",
       " 264     25532\n",
       " 274     77684\n",
       " 275    100000\n",
       " 276     58000\n",
       " 278     20171\n",
       " 283    105000\n",
       " 287    109000\n",
       " Name: salary_in_usd, dtype: int64>,\n",
       " <bound method NDFrame._add_numeric_operations.<locals>.mean of 292    130000\n",
       " 293     90000\n",
       " 298    136620\n",
       " 299     99360\n",
       " 300    117789\n",
       "         ...  \n",
       " 592    230000\n",
       " 593    150000\n",
       " 596    210000\n",
       " 598    160000\n",
       " 599    130000\n",
       " Name: salary_in_usd, Length: 81, dtype: int64>]"
      ]
     },
     "execution_count": 27,
     "metadata": {},
     "output_type": "execute_result"
    }
   ],
   "source": [
    "avg_salary_by_year"
   ]
  },
  {
   "cell_type": "code",
   "execution_count": null,
   "id": "1d86d18a",
   "metadata": {},
   "outputs": [],
   "source": []
  }
 ],
 "metadata": {
  "kernelspec": {
   "display_name": "Python 3 (ipykernel)",
   "language": "python",
   "name": "python3"
  },
  "language_info": {
   "codemirror_mode": {
    "name": "ipython",
    "version": 3
   },
   "file_extension": ".py",
   "mimetype": "text/x-python",
   "name": "python",
   "nbconvert_exporter": "python",
   "pygments_lexer": "ipython3",
   "version": "3.10.7"
  }
 },
 "nbformat": 4,
 "nbformat_minor": 5
}
