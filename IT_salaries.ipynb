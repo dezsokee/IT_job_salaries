{
 "cells": [
  {
   "cell_type": "markdown",
   "id": "591ba308",
   "metadata": {},
   "source": [
    "# IT salaries project\n",
    "\n",
    "### This is a project which is a test case for my data science jurney.\n",
    "<b> Created by Dezső Szabolcs </b>\n",
    "\n",
    "![purple-divider](https://user-images.githubusercontent.com/7065401/52071927-c1cd7100-2562-11e9-908a-dde91ba14e59.png)"
   ]
  },
  {
   "cell_type": "markdown",
   "id": "e4e30bd9",
   "metadata": {},
   "source": [
    "### Importing the packages from my Python library"
   ]
  },
  {
   "cell_type": "code",
   "execution_count": 2,
   "id": "09124029",
   "metadata": {},
   "outputs": [],
   "source": [
    "import numpy as np\n",
    "import pandas as pd\n",
    "import matplotlib.pyplot as plt"
   ]
  },
  {
   "cell_type": "markdown",
   "id": "a888df30",
   "metadata": {},
   "source": [
    "### Reading the external CSV file and document it"
   ]
  },
  {
   "cell_type": "code",
   "execution_count": 3,
   "id": "a82d27bd",
   "metadata": {},
   "outputs": [],
   "source": [
    "salaries_df = pd.read_csv(\"data/ds_salaries.csv\")"
   ]
  },
  {
   "cell_type": "markdown",
   "id": "9443464c",
   "metadata": {},
   "source": [
    "**Replacing the dataset index**"
   ]
  },
  {
   "cell_type": "code",
   "execution_count": 4,
   "id": "182135cc",
   "metadata": {},
   "outputs": [],
   "source": [
    "salaries_df.index.names = ['ID']"
   ]
  },
  {
   "cell_type": "code",
   "execution_count": 5,
   "id": "f034d48a",
   "metadata": {},
   "outputs": [],
   "source": [
    "salaries_df = salaries_df.drop('Unnamed: 0', axis = 1)\n"
   ]
  },
  {
   "cell_type": "code",
   "execution_count": 6,
   "id": "b620d76c",
   "metadata": {},
   "outputs": [
    {
     "data": {
      "text/html": [
       "<div>\n",
       "<style scoped>\n",
       "    .dataframe tbody tr th:only-of-type {\n",
       "        vertical-align: middle;\n",
       "    }\n",
       "\n",
       "    .dataframe tbody tr th {\n",
       "        vertical-align: top;\n",
       "    }\n",
       "\n",
       "    .dataframe thead th {\n",
       "        text-align: right;\n",
       "    }\n",
       "</style>\n",
       "<table border=\"1\" class=\"dataframe\">\n",
       "  <thead>\n",
       "    <tr style=\"text-align: right;\">\n",
       "      <th></th>\n",
       "      <th>work_year</th>\n",
       "      <th>experience_level</th>\n",
       "      <th>employment_type</th>\n",
       "      <th>job_title</th>\n",
       "      <th>salary</th>\n",
       "      <th>salary_currency</th>\n",
       "      <th>salary_in_usd</th>\n",
       "      <th>employee_residence</th>\n",
       "      <th>remote_ratio</th>\n",
       "      <th>company_location</th>\n",
       "      <th>company_size</th>\n",
       "    </tr>\n",
       "    <tr>\n",
       "      <th>ID</th>\n",
       "      <th></th>\n",
       "      <th></th>\n",
       "      <th></th>\n",
       "      <th></th>\n",
       "      <th></th>\n",
       "      <th></th>\n",
       "      <th></th>\n",
       "      <th></th>\n",
       "      <th></th>\n",
       "      <th></th>\n",
       "      <th></th>\n",
       "    </tr>\n",
       "  </thead>\n",
       "  <tbody>\n",
       "    <tr>\n",
       "      <th>0</th>\n",
       "      <td>2020</td>\n",
       "      <td>MI</td>\n",
       "      <td>FT</td>\n",
       "      <td>Data Scientist</td>\n",
       "      <td>70000</td>\n",
       "      <td>EUR</td>\n",
       "      <td>79833</td>\n",
       "      <td>DE</td>\n",
       "      <td>0</td>\n",
       "      <td>DE</td>\n",
       "      <td>L</td>\n",
       "    </tr>\n",
       "    <tr>\n",
       "      <th>1</th>\n",
       "      <td>2020</td>\n",
       "      <td>SE</td>\n",
       "      <td>FT</td>\n",
       "      <td>Machine Learning Scientist</td>\n",
       "      <td>260000</td>\n",
       "      <td>USD</td>\n",
       "      <td>260000</td>\n",
       "      <td>JP</td>\n",
       "      <td>0</td>\n",
       "      <td>JP</td>\n",
       "      <td>S</td>\n",
       "    </tr>\n",
       "    <tr>\n",
       "      <th>2</th>\n",
       "      <td>2020</td>\n",
       "      <td>SE</td>\n",
       "      <td>FT</td>\n",
       "      <td>Big Data Engineer</td>\n",
       "      <td>85000</td>\n",
       "      <td>GBP</td>\n",
       "      <td>109024</td>\n",
       "      <td>GB</td>\n",
       "      <td>50</td>\n",
       "      <td>GB</td>\n",
       "      <td>M</td>\n",
       "    </tr>\n",
       "    <tr>\n",
       "      <th>3</th>\n",
       "      <td>2020</td>\n",
       "      <td>MI</td>\n",
       "      <td>FT</td>\n",
       "      <td>Product Data Analyst</td>\n",
       "      <td>20000</td>\n",
       "      <td>USD</td>\n",
       "      <td>20000</td>\n",
       "      <td>HN</td>\n",
       "      <td>0</td>\n",
       "      <td>HN</td>\n",
       "      <td>S</td>\n",
       "    </tr>\n",
       "    <tr>\n",
       "      <th>4</th>\n",
       "      <td>2020</td>\n",
       "      <td>SE</td>\n",
       "      <td>FT</td>\n",
       "      <td>Machine Learning Engineer</td>\n",
       "      <td>150000</td>\n",
       "      <td>USD</td>\n",
       "      <td>150000</td>\n",
       "      <td>US</td>\n",
       "      <td>50</td>\n",
       "      <td>US</td>\n",
       "      <td>L</td>\n",
       "    </tr>\n",
       "  </tbody>\n",
       "</table>\n",
       "</div>"
      ],
      "text/plain": [
       "    work_year experience_level employment_type                   job_title  \\\n",
       "ID                                                                           \n",
       "0        2020               MI              FT              Data Scientist   \n",
       "1        2020               SE              FT  Machine Learning Scientist   \n",
       "2        2020               SE              FT           Big Data Engineer   \n",
       "3        2020               MI              FT        Product Data Analyst   \n",
       "4        2020               SE              FT   Machine Learning Engineer   \n",
       "\n",
       "    salary salary_currency  salary_in_usd employee_residence  remote_ratio  \\\n",
       "ID                                                                           \n",
       "0    70000             EUR          79833                 DE             0   \n",
       "1   260000             USD         260000                 JP             0   \n",
       "2    85000             GBP         109024                 GB            50   \n",
       "3    20000             USD          20000                 HN             0   \n",
       "4   150000             USD         150000                 US            50   \n",
       "\n",
       "   company_location company_size  \n",
       "ID                                \n",
       "0                DE            L  \n",
       "1                JP            S  \n",
       "2                GB            M  \n",
       "3                HN            S  \n",
       "4                US            L  "
      ]
     },
     "execution_count": 6,
     "metadata": {},
     "output_type": "execute_result"
    }
   ],
   "source": [
    "salaries_df.head()"
   ]
  },
  {
   "cell_type": "markdown",
   "id": "35231c7b",
   "metadata": {},
   "source": [
    "**Attributes of the dataset:**\n",
    "- ID\n",
    "- Work Year\n",
    "- Experience level\n",
    "- Employment Type\n",
    "- Job Title\n",
    "- Salary\n",
    "- Salary Currency\n",
    "- Salary in USD\n",
    "- Employee Residence\n",
    "- Remote Ratio\n",
    "- Company Location\n",
    "- Company Size"
   ]
  },
  {
   "cell_type": "markdown",
   "id": "f3459072",
   "metadata": {},
   "source": [
    "### Some basic statistics about the data"
   ]
  },
  {
   "cell_type": "code",
   "execution_count": 7,
   "id": "ee9d75a8",
   "metadata": {},
   "outputs": [
    {
     "data": {
      "text/html": [
       "<div>\n",
       "<style scoped>\n",
       "    .dataframe tbody tr th:only-of-type {\n",
       "        vertical-align: middle;\n",
       "    }\n",
       "\n",
       "    .dataframe tbody tr th {\n",
       "        vertical-align: top;\n",
       "    }\n",
       "\n",
       "    .dataframe thead th {\n",
       "        text-align: right;\n",
       "    }\n",
       "</style>\n",
       "<table border=\"1\" class=\"dataframe\">\n",
       "  <thead>\n",
       "    <tr style=\"text-align: right;\">\n",
       "      <th></th>\n",
       "      <th>work_year</th>\n",
       "      <th>salary</th>\n",
       "      <th>salary_in_usd</th>\n",
       "      <th>remote_ratio</th>\n",
       "    </tr>\n",
       "  </thead>\n",
       "  <tbody>\n",
       "    <tr>\n",
       "      <th>count</th>\n",
       "      <td>607.000000</td>\n",
       "      <td>6.070000e+02</td>\n",
       "      <td>607.000000</td>\n",
       "      <td>607.00000</td>\n",
       "    </tr>\n",
       "    <tr>\n",
       "      <th>mean</th>\n",
       "      <td>2021.405272</td>\n",
       "      <td>3.240001e+05</td>\n",
       "      <td>112297.869852</td>\n",
       "      <td>70.92257</td>\n",
       "    </tr>\n",
       "    <tr>\n",
       "      <th>std</th>\n",
       "      <td>0.692133</td>\n",
       "      <td>1.544357e+06</td>\n",
       "      <td>70957.259411</td>\n",
       "      <td>40.70913</td>\n",
       "    </tr>\n",
       "    <tr>\n",
       "      <th>min</th>\n",
       "      <td>2020.000000</td>\n",
       "      <td>4.000000e+03</td>\n",
       "      <td>2859.000000</td>\n",
       "      <td>0.00000</td>\n",
       "    </tr>\n",
       "    <tr>\n",
       "      <th>25%</th>\n",
       "      <td>2021.000000</td>\n",
       "      <td>7.000000e+04</td>\n",
       "      <td>62726.000000</td>\n",
       "      <td>50.00000</td>\n",
       "    </tr>\n",
       "    <tr>\n",
       "      <th>50%</th>\n",
       "      <td>2022.000000</td>\n",
       "      <td>1.150000e+05</td>\n",
       "      <td>101570.000000</td>\n",
       "      <td>100.00000</td>\n",
       "    </tr>\n",
       "    <tr>\n",
       "      <th>75%</th>\n",
       "      <td>2022.000000</td>\n",
       "      <td>1.650000e+05</td>\n",
       "      <td>150000.000000</td>\n",
       "      <td>100.00000</td>\n",
       "    </tr>\n",
       "    <tr>\n",
       "      <th>max</th>\n",
       "      <td>2022.000000</td>\n",
       "      <td>3.040000e+07</td>\n",
       "      <td>600000.000000</td>\n",
       "      <td>100.00000</td>\n",
       "    </tr>\n",
       "  </tbody>\n",
       "</table>\n",
       "</div>"
      ],
      "text/plain": [
       "         work_year        salary  salary_in_usd  remote_ratio\n",
       "count   607.000000  6.070000e+02     607.000000     607.00000\n",
       "mean   2021.405272  3.240001e+05  112297.869852      70.92257\n",
       "std       0.692133  1.544357e+06   70957.259411      40.70913\n",
       "min    2020.000000  4.000000e+03    2859.000000       0.00000\n",
       "25%    2021.000000  7.000000e+04   62726.000000      50.00000\n",
       "50%    2022.000000  1.150000e+05  101570.000000     100.00000\n",
       "75%    2022.000000  1.650000e+05  150000.000000     100.00000\n",
       "max    2022.000000  3.040000e+07  600000.000000     100.00000"
      ]
     },
     "execution_count": 7,
     "metadata": {},
     "output_type": "execute_result"
    }
   ],
   "source": [
    "salaries_df.describe()"
   ]
  },
  {
   "cell_type": "code",
   "execution_count": 25,
   "id": "271ee8a7",
   "metadata": {},
   "outputs": [
    {
     "data": {
      "text/plain": [
       "(607, 11)"
      ]
     },
     "execution_count": 25,
     "metadata": {},
     "output_type": "execute_result"
    }
   ],
   "source": [
    "salaries_df.shape"
   ]
  },
  {
   "cell_type": "markdown",
   "id": "80ce6f8e",
   "metadata": {},
   "source": [
    "### Cleaning the data if there is some NaN or NULL value"
   ]
  },
  {
   "cell_type": "code",
   "execution_count": 26,
   "id": "cb0a95e0",
   "metadata": {
    "scrolled": true
   },
   "outputs": [
    {
     "data": {
      "text/plain": [
       "work_year             0\n",
       "experience_level      0\n",
       "employment_type       0\n",
       "job_title             0\n",
       "salary                0\n",
       "salary_currency       0\n",
       "salary_in_usd         0\n",
       "employee_residence    0\n",
       "remote_ratio          0\n",
       "company_location      0\n",
       "company_size          0\n",
       "dtype: int64"
      ]
     },
     "execution_count": 26,
     "metadata": {},
     "output_type": "execute_result"
    }
   ],
   "source": [
    "pd.isna(salaries_df).sum()"
   ]
  },
  {
   "cell_type": "code",
   "execution_count": 33,
   "id": "cf3b3bc6",
   "metadata": {},
   "outputs": [],
   "source": [
    "salaries_df.dropna(inplace = True)"
   ]
  },
  {
   "cell_type": "markdown",
   "id": "1f094cf3",
   "metadata": {},
   "source": [
    "## Visualization\n",
    "![separator1](https://i.imgur.com/ZUWYTii.png)"
   ]
  },
  {
   "cell_type": "markdown",
   "id": "7eabd207",
   "metadata": {},
   "source": [
    "**Making a chart which represents the salaries of the three main field of data jobs**"
   ]
  },
  {
   "cell_type": "markdown",
   "id": "4ebdbc7a",
   "metadata": {},
   "source": [
    "Slice the main DataFrame into three separate DataFrame"
   ]
  },
  {
   "cell_type": "code",
   "execution_count": 91,
   "id": "c0002448",
   "metadata": {},
   "outputs": [],
   "source": [
    "data_scientists = salaries_df[salaries_df[\"job_title\"].str.contains(\"Data Scientist\")]\n",
    "data_analysts = salaries_df[salaries_df[\"job_title\"].str.contains(\"Data Analyst\")]\n",
    "data_engineers = salaries_df[salaries_df[\"job_title\"].str.contains(\"Data Engineer\")].copy()"
   ]
  },
  {
   "cell_type": "markdown",
   "id": "6ae49121",
   "metadata": {},
   "source": [
    "Filter the Big Data Engineers from the Data Engineers DataFrame"
   ]
  },
  {
   "cell_type": "code",
   "execution_count": 93,
   "id": "1a42c9eb",
   "metadata": {
    "collapsed": true
   },
   "outputs": [
    {
     "data": {
      "text/html": [
       "<div>\n",
       "<style scoped>\n",
       "    .dataframe tbody tr th:only-of-type {\n",
       "        vertical-align: middle;\n",
       "    }\n",
       "\n",
       "    .dataframe tbody tr th {\n",
       "        vertical-align: top;\n",
       "    }\n",
       "\n",
       "    .dataframe thead th {\n",
       "        text-align: right;\n",
       "    }\n",
       "</style>\n",
       "<table border=\"1\" class=\"dataframe\">\n",
       "  <thead>\n",
       "    <tr style=\"text-align: right;\">\n",
       "      <th></th>\n",
       "      <th>work_year</th>\n",
       "      <th>experience_level</th>\n",
       "      <th>employment_type</th>\n",
       "      <th>job_title</th>\n",
       "      <th>salary</th>\n",
       "      <th>salary_currency</th>\n",
       "      <th>salary_in_usd</th>\n",
       "      <th>employee_residence</th>\n",
       "      <th>remote_ratio</th>\n",
       "      <th>company_location</th>\n",
       "      <th>company_size</th>\n",
       "    </tr>\n",
       "    <tr>\n",
       "      <th>ID</th>\n",
       "      <th></th>\n",
       "      <th></th>\n",
       "      <th></th>\n",
       "      <th></th>\n",
       "      <th></th>\n",
       "      <th></th>\n",
       "      <th></th>\n",
       "      <th></th>\n",
       "      <th></th>\n",
       "      <th></th>\n",
       "      <th></th>\n",
       "    </tr>\n",
       "  </thead>\n",
       "  <tbody>\n",
       "    <tr>\n",
       "      <th>2</th>\n",
       "      <td>2020</td>\n",
       "      <td>SE</td>\n",
       "      <td>FT</td>\n",
       "      <td>Big Data Engineer</td>\n",
       "      <td>85000</td>\n",
       "      <td>GBP</td>\n",
       "      <td>109024</td>\n",
       "      <td>GB</td>\n",
       "      <td>50</td>\n",
       "      <td>GB</td>\n",
       "      <td>M</td>\n",
       "    </tr>\n",
       "    <tr>\n",
       "      <th>17</th>\n",
       "      <td>2020</td>\n",
       "      <td>SE</td>\n",
       "      <td>FT</td>\n",
       "      <td>Big Data Engineer</td>\n",
       "      <td>100000</td>\n",
       "      <td>EUR</td>\n",
       "      <td>114047</td>\n",
       "      <td>PL</td>\n",
       "      <td>100</td>\n",
       "      <td>GB</td>\n",
       "      <td>S</td>\n",
       "    </tr>\n",
       "    <tr>\n",
       "      <th>31</th>\n",
       "      <td>2020</td>\n",
       "      <td>EN</td>\n",
       "      <td>FT</td>\n",
       "      <td>Big Data Engineer</td>\n",
       "      <td>70000</td>\n",
       "      <td>USD</td>\n",
       "      <td>70000</td>\n",
       "      <td>US</td>\n",
       "      <td>100</td>\n",
       "      <td>US</td>\n",
       "      <td>L</td>\n",
       "    </tr>\n",
       "    <tr>\n",
       "      <th>120</th>\n",
       "      <td>2021</td>\n",
       "      <td>MI</td>\n",
       "      <td>FT</td>\n",
       "      <td>Big Data Engineer</td>\n",
       "      <td>60000</td>\n",
       "      <td>USD</td>\n",
       "      <td>60000</td>\n",
       "      <td>ES</td>\n",
       "      <td>50</td>\n",
       "      <td>RO</td>\n",
       "      <td>M</td>\n",
       "    </tr>\n",
       "    <tr>\n",
       "      <th>180</th>\n",
       "      <td>2021</td>\n",
       "      <td>MI</td>\n",
       "      <td>FT</td>\n",
       "      <td>Big Data Engineer</td>\n",
       "      <td>1672000</td>\n",
       "      <td>INR</td>\n",
       "      <td>22611</td>\n",
       "      <td>IN</td>\n",
       "      <td>0</td>\n",
       "      <td>IN</td>\n",
       "      <td>L</td>\n",
       "    </tr>\n",
       "    <tr>\n",
       "      <th>192</th>\n",
       "      <td>2021</td>\n",
       "      <td>MI</td>\n",
       "      <td>FT</td>\n",
       "      <td>Big Data Engineer</td>\n",
       "      <td>18000</td>\n",
       "      <td>USD</td>\n",
       "      <td>18000</td>\n",
       "      <td>MD</td>\n",
       "      <td>0</td>\n",
       "      <td>MD</td>\n",
       "      <td>S</td>\n",
       "    </tr>\n",
       "    <tr>\n",
       "      <th>213</th>\n",
       "      <td>2021</td>\n",
       "      <td>EN</td>\n",
       "      <td>FT</td>\n",
       "      <td>Big Data Engineer</td>\n",
       "      <td>435000</td>\n",
       "      <td>INR</td>\n",
       "      <td>5882</td>\n",
       "      <td>IN</td>\n",
       "      <td>0</td>\n",
       "      <td>CH</td>\n",
       "      <td>L</td>\n",
       "    </tr>\n",
       "    <tr>\n",
       "      <th>230</th>\n",
       "      <td>2021</td>\n",
       "      <td>EN</td>\n",
       "      <td>FT</td>\n",
       "      <td>Big Data Engineer</td>\n",
       "      <td>1200000</td>\n",
       "      <td>INR</td>\n",
       "      <td>16228</td>\n",
       "      <td>IN</td>\n",
       "      <td>100</td>\n",
       "      <td>IN</td>\n",
       "      <td>L</td>\n",
       "    </tr>\n",
       "  </tbody>\n",
       "</table>\n",
       "</div>"
      ],
      "text/plain": [
       "     work_year experience_level employment_type          job_title   salary  \\\n",
       "ID                                                                            \n",
       "2         2020               SE              FT  Big Data Engineer    85000   \n",
       "17        2020               SE              FT  Big Data Engineer   100000   \n",
       "31        2020               EN              FT  Big Data Engineer    70000   \n",
       "120       2021               MI              FT  Big Data Engineer    60000   \n",
       "180       2021               MI              FT  Big Data Engineer  1672000   \n",
       "192       2021               MI              FT  Big Data Engineer    18000   \n",
       "213       2021               EN              FT  Big Data Engineer   435000   \n",
       "230       2021               EN              FT  Big Data Engineer  1200000   \n",
       "\n",
       "    salary_currency  salary_in_usd employee_residence  remote_ratio  \\\n",
       "ID                                                                    \n",
       "2               GBP         109024                 GB            50   \n",
       "17              EUR         114047                 PL           100   \n",
       "31              USD          70000                 US           100   \n",
       "120             USD          60000                 ES            50   \n",
       "180             INR          22611                 IN             0   \n",
       "192             USD          18000                 MD             0   \n",
       "213             INR           5882                 IN             0   \n",
       "230             INR          16228                 IN           100   \n",
       "\n",
       "    company_location company_size  \n",
       "ID                                 \n",
       "2                 GB            M  \n",
       "17                GB            S  \n",
       "31                US            L  \n",
       "120               RO            M  \n",
       "180               IN            L  \n",
       "192               MD            S  \n",
       "213               CH            L  \n",
       "230               IN            L  "
      ]
     },
     "execution_count": 93,
     "metadata": {},
     "output_type": "execute_result"
    }
   ],
   "source": [
    "data_engineers[data_engineers['job_title'].str.contains('Big') == True]"
   ]
  },
  {
   "cell_type": "code",
   "execution_count": 94,
   "id": "84f0075c",
   "metadata": {},
   "outputs": [],
   "source": [
    "drop_index = (data_engineers[data_engineers['job_title'].str.contains('Big') == True]).index"
   ]
  },
  {
   "cell_type": "code",
   "execution_count": 95,
   "id": "e7c49cbf",
   "metadata": {},
   "outputs": [],
   "source": [
    "data_engineers.drop(index = drop_index, inplace = True)"
   ]
  },
  {
   "cell_type": "markdown",
   "id": "8e4bd490",
   "metadata": {},
   "source": [
    "The edited DataFrame with only the \"original\" Data Engineers data"
   ]
  },
  {
   "cell_type": "code",
   "execution_count": 97,
   "id": "6f72ef5b",
   "metadata": {
    "collapsed": true
   },
   "outputs": [
    {
     "data": {
      "text/html": [
       "<div>\n",
       "<style scoped>\n",
       "    .dataframe tbody tr th:only-of-type {\n",
       "        vertical-align: middle;\n",
       "    }\n",
       "\n",
       "    .dataframe tbody tr th {\n",
       "        vertical-align: top;\n",
       "    }\n",
       "\n",
       "    .dataframe thead th {\n",
       "        text-align: right;\n",
       "    }\n",
       "</style>\n",
       "<table border=\"1\" class=\"dataframe\">\n",
       "  <thead>\n",
       "    <tr style=\"text-align: right;\">\n",
       "      <th></th>\n",
       "      <th>work_year</th>\n",
       "      <th>experience_level</th>\n",
       "      <th>employment_type</th>\n",
       "      <th>job_title</th>\n",
       "      <th>salary</th>\n",
       "      <th>salary_currency</th>\n",
       "      <th>salary_in_usd</th>\n",
       "      <th>employee_residence</th>\n",
       "      <th>remote_ratio</th>\n",
       "      <th>company_location</th>\n",
       "      <th>company_size</th>\n",
       "    </tr>\n",
       "    <tr>\n",
       "      <th>ID</th>\n",
       "      <th></th>\n",
       "      <th></th>\n",
       "      <th></th>\n",
       "      <th></th>\n",
       "      <th></th>\n",
       "      <th></th>\n",
       "      <th></th>\n",
       "      <th></th>\n",
       "      <th></th>\n",
       "      <th></th>\n",
       "      <th></th>\n",
       "    </tr>\n",
       "  </thead>\n",
       "  <tbody>\n",
       "    <tr>\n",
       "      <th>9</th>\n",
       "      <td>2020</td>\n",
       "      <td>SE</td>\n",
       "      <td>FT</td>\n",
       "      <td>Lead Data Engineer</td>\n",
       "      <td>125000</td>\n",
       "      <td>USD</td>\n",
       "      <td>125000</td>\n",
       "      <td>NZ</td>\n",
       "      <td>50</td>\n",
       "      <td>NZ</td>\n",
       "      <td>S</td>\n",
       "    </tr>\n",
       "    <tr>\n",
       "      <th>16</th>\n",
       "      <td>2020</td>\n",
       "      <td>EN</td>\n",
       "      <td>FT</td>\n",
       "      <td>Data Engineer</td>\n",
       "      <td>4450000</td>\n",
       "      <td>JPY</td>\n",
       "      <td>41689</td>\n",
       "      <td>JP</td>\n",
       "      <td>100</td>\n",
       "      <td>JP</td>\n",
       "      <td>S</td>\n",
       "    </tr>\n",
       "    <tr>\n",
       "      <th>19</th>\n",
       "      <td>2020</td>\n",
       "      <td>MI</td>\n",
       "      <td>FT</td>\n",
       "      <td>Lead Data Engineer</td>\n",
       "      <td>56000</td>\n",
       "      <td>USD</td>\n",
       "      <td>56000</td>\n",
       "      <td>PT</td>\n",
       "      <td>100</td>\n",
       "      <td>US</td>\n",
       "      <td>M</td>\n",
       "    </tr>\n",
       "    <tr>\n",
       "      <th>22</th>\n",
       "      <td>2020</td>\n",
       "      <td>SE</td>\n",
       "      <td>FT</td>\n",
       "      <td>Data Engineer</td>\n",
       "      <td>42000</td>\n",
       "      <td>EUR</td>\n",
       "      <td>47899</td>\n",
       "      <td>GR</td>\n",
       "      <td>50</td>\n",
       "      <td>GR</td>\n",
       "      <td>L</td>\n",
       "    </tr>\n",
       "    <tr>\n",
       "      <th>27</th>\n",
       "      <td>2020</td>\n",
       "      <td>SE</td>\n",
       "      <td>FT</td>\n",
       "      <td>Data Engineer</td>\n",
       "      <td>720000</td>\n",
       "      <td>MXN</td>\n",
       "      <td>33511</td>\n",
       "      <td>MX</td>\n",
       "      <td>0</td>\n",
       "      <td>MX</td>\n",
       "      <td>S</td>\n",
       "    </tr>\n",
       "    <tr>\n",
       "      <th>...</th>\n",
       "      <td>...</td>\n",
       "      <td>...</td>\n",
       "      <td>...</td>\n",
       "      <td>...</td>\n",
       "      <td>...</td>\n",
       "      <td>...</td>\n",
       "      <td>...</td>\n",
       "      <td>...</td>\n",
       "      <td>...</td>\n",
       "      <td>...</td>\n",
       "      <td>...</td>\n",
       "    </tr>\n",
       "    <tr>\n",
       "      <th>579</th>\n",
       "      <td>2022</td>\n",
       "      <td>SE</td>\n",
       "      <td>FT</td>\n",
       "      <td>Data Engineer</td>\n",
       "      <td>25000</td>\n",
       "      <td>USD</td>\n",
       "      <td>25000</td>\n",
       "      <td>US</td>\n",
       "      <td>100</td>\n",
       "      <td>US</td>\n",
       "      <td>M</td>\n",
       "    </tr>\n",
       "    <tr>\n",
       "      <th>582</th>\n",
       "      <td>2022</td>\n",
       "      <td>SE</td>\n",
       "      <td>FT</td>\n",
       "      <td>Data Engineer</td>\n",
       "      <td>220110</td>\n",
       "      <td>USD</td>\n",
       "      <td>220110</td>\n",
       "      <td>US</td>\n",
       "      <td>100</td>\n",
       "      <td>US</td>\n",
       "      <td>M</td>\n",
       "    </tr>\n",
       "    <tr>\n",
       "      <th>583</th>\n",
       "      <td>2022</td>\n",
       "      <td>SE</td>\n",
       "      <td>FT</td>\n",
       "      <td>Data Engineer</td>\n",
       "      <td>160080</td>\n",
       "      <td>USD</td>\n",
       "      <td>160080</td>\n",
       "      <td>US</td>\n",
       "      <td>100</td>\n",
       "      <td>US</td>\n",
       "      <td>M</td>\n",
       "    </tr>\n",
       "    <tr>\n",
       "      <th>602</th>\n",
       "      <td>2022</td>\n",
       "      <td>SE</td>\n",
       "      <td>FT</td>\n",
       "      <td>Data Engineer</td>\n",
       "      <td>154000</td>\n",
       "      <td>USD</td>\n",
       "      <td>154000</td>\n",
       "      <td>US</td>\n",
       "      <td>100</td>\n",
       "      <td>US</td>\n",
       "      <td>M</td>\n",
       "    </tr>\n",
       "    <tr>\n",
       "      <th>603</th>\n",
       "      <td>2022</td>\n",
       "      <td>SE</td>\n",
       "      <td>FT</td>\n",
       "      <td>Data Engineer</td>\n",
       "      <td>126000</td>\n",
       "      <td>USD</td>\n",
       "      <td>126000</td>\n",
       "      <td>US</td>\n",
       "      <td>100</td>\n",
       "      <td>US</td>\n",
       "      <td>M</td>\n",
       "    </tr>\n",
       "  </tbody>\n",
       "</table>\n",
       "<p>150 rows × 11 columns</p>\n",
       "</div>"
      ],
      "text/plain": [
       "     work_year experience_level employment_type           job_title   salary  \\\n",
       "ID                                                                             \n",
       "9         2020               SE              FT  Lead Data Engineer   125000   \n",
       "16        2020               EN              FT       Data Engineer  4450000   \n",
       "19        2020               MI              FT  Lead Data Engineer    56000   \n",
       "22        2020               SE              FT       Data Engineer    42000   \n",
       "27        2020               SE              FT       Data Engineer   720000   \n",
       "..         ...              ...             ...                 ...      ...   \n",
       "579       2022               SE              FT       Data Engineer    25000   \n",
       "582       2022               SE              FT       Data Engineer   220110   \n",
       "583       2022               SE              FT       Data Engineer   160080   \n",
       "602       2022               SE              FT       Data Engineer   154000   \n",
       "603       2022               SE              FT       Data Engineer   126000   \n",
       "\n",
       "    salary_currency  salary_in_usd employee_residence  remote_ratio  \\\n",
       "ID                                                                    \n",
       "9               USD         125000                 NZ            50   \n",
       "16              JPY          41689                 JP           100   \n",
       "19              USD          56000                 PT           100   \n",
       "22              EUR          47899                 GR            50   \n",
       "27              MXN          33511                 MX             0   \n",
       "..              ...            ...                ...           ...   \n",
       "579             USD          25000                 US           100   \n",
       "582             USD         220110                 US           100   \n",
       "583             USD         160080                 US           100   \n",
       "602             USD         154000                 US           100   \n",
       "603             USD         126000                 US           100   \n",
       "\n",
       "    company_location company_size  \n",
       "ID                                 \n",
       "9                 NZ            S  \n",
       "16                JP            S  \n",
       "19                US            M  \n",
       "22                GR            L  \n",
       "27                MX            S  \n",
       "..               ...          ...  \n",
       "579               US            M  \n",
       "582               US            M  \n",
       "583               US            M  \n",
       "602               US            M  \n",
       "603               US            M  \n",
       "\n",
       "[150 rows x 11 columns]"
      ]
     },
     "execution_count": 97,
     "metadata": {},
     "output_type": "execute_result"
    }
   ],
   "source": [
    "data_engineers"
   ]
  },
  {
   "cell_type": "markdown",
   "id": "2fc63c23",
   "metadata": {},
   "source": [
    "The unique job titles in every DataFrame that I created earlier"
   ]
  },
  {
   "cell_type": "code",
   "execution_count": 102,
   "id": "8d909072",
   "metadata": {},
   "outputs": [
    {
     "data": {
      "text/plain": [
       "array(['Lead Data Engineer', 'Data Engineer', 'Data Engineering Manager',\n",
       "       'Cloud Data Engineer', 'Director of Data Engineering',\n",
       "       'Principal Data Engineer'], dtype=object)"
      ]
     },
     "execution_count": 102,
     "metadata": {},
     "output_type": "execute_result"
    }
   ],
   "source": [
    "data_engineers['job_title'].unique()"
   ]
  },
  {
   "cell_type": "code",
   "execution_count": 103,
   "id": "49fe079a",
   "metadata": {},
   "outputs": [
    {
     "data": {
      "text/plain": [
       "array(['Data Scientist', 'Lead Data Scientist',\n",
       "       'Principal Data Scientist', 'Applied Data Scientist',\n",
       "       'Staff Data Scientist'], dtype=object)"
      ]
     },
     "execution_count": 103,
     "metadata": {},
     "output_type": "execute_result"
    }
   ],
   "source": [
    "data_scientists['job_title'].unique()"
   ]
  },
  {
   "cell_type": "code",
   "execution_count": 104,
   "id": "b5697d1f",
   "metadata": {},
   "outputs": [
    {
     "data": {
      "text/plain": [
       "array(['Product Data Analyst', 'Data Analyst', 'Business Data Analyst',\n",
       "       'Lead Data Analyst', 'BI Data Analyst', 'Marketing Data Analyst',\n",
       "       'Financial Data Analyst', 'Finance Data Analyst',\n",
       "       'Principal Data Analyst'], dtype=object)"
      ]
     },
     "execution_count": 104,
     "metadata": {},
     "output_type": "execute_result"
    }
   ],
   "source": [
    "data_analysts['job_title'].unique()"
   ]
  },
  {
   "cell_type": "code",
   "execution_count": 115,
   "id": "eeff131d",
   "metadata": {},
   "outputs": [],
   "source": [
    "data_engineer_avg_salary = data_engineers['salary'].mean()"
   ]
  },
  {
   "cell_type": "code",
   "execution_count": 117,
   "id": "4b5424f6",
   "metadata": {},
   "outputs": [],
   "source": [
    "data_scientist_avg_salary = data_scientists['salary'].mean()"
   ]
  },
  {
   "cell_type": "code",
   "execution_count": 118,
   "id": "904bb667",
   "metadata": {},
   "outputs": [],
   "source": [
    "data_analysts_avg_salary = data_analysts['salary'].mean()"
   ]
  },
  {
   "cell_type": "code",
   "execution_count": 116,
   "id": "60be6a73",
   "metadata": {},
   "outputs": [
    {
     "data": {
      "text/plain": [
       "177628.61333333334"
      ]
     },
     "execution_count": 116,
     "metadata": {},
     "output_type": "execute_result"
    }
   ],
   "source": [
    "data_engineer_avg_salary"
   ]
  },
  {
   "cell_type": "code",
   "execution_count": 119,
   "id": "25c949ba",
   "metadata": {},
   "outputs": [
    {
     "data": {
      "text/plain": [
       "493161.320754717"
      ]
     },
     "execution_count": 119,
     "metadata": {},
     "output_type": "execute_result"
    }
   ],
   "source": [
    "data_scientist_avg_salary"
   ]
  },
  {
   "cell_type": "code",
   "execution_count": 120,
   "id": "8cc7c0b6",
   "metadata": {},
   "outputs": [
    {
     "data": {
      "text/plain": [
       "215545.82352941178"
      ]
     },
     "execution_count": 120,
     "metadata": {},
     "output_type": "execute_result"
    }
   ],
   "source": [
    "data_analysts_avg_salary"
   ]
  },
  {
   "cell_type": "code",
   "execution_count": 128,
   "id": "56be3179",
   "metadata": {},
   "outputs": [],
   "source": [
    "bar_salary_names_avg = [\"Data Analyst\", \"Data Engineer\", \"Data Scientist\"]"
   ]
  },
  {
   "cell_type": "code",
   "execution_count": 129,
   "id": "9b6fa161",
   "metadata": {},
   "outputs": [],
   "source": [
    "bar_salary_avg = [data_analysts_avg_salary, data_engineer_avg_salary, data_scientist_avg_salary]"
   ]
  },
  {
   "cell_type": "code",
   "execution_count": 131,
   "id": "1175ba70",
   "metadata": {},
   "outputs": [
    {
     "data": {
      "text/plain": [
       "<BarContainer object of 3 artists>"
      ]
     },
     "execution_count": 131,
     "metadata": {},
     "output_type": "execute_result"
    },
    {
     "data": {
      "image/png": "[encoded data removed]",
      "text/plain": [
       "<Figure size 640x480 with 1 Axes>"
      ]
     },
     "metadata": {},
     "output_type": "display_data"
    }
   ],
   "source": [
    "plt.bar(x = bar_salary_names_avg, height = bar_salary_avg)"
   ]
  },
  {
   "cell_type": "code",
   "execution_count": null,
   "id": "103c0f5e",
   "metadata": {},
   "outputs": [],
   "source": []
  }
 ],
 "metadata": {
  "kernelspec": {
   "display_name": "Python 3 (ipykernel)",
   "language": "python",
   "name": "python3"
  },
  "language_info": {
   "codemirror_mode": {
    "name": "ipython",
    "version": 3
   },
   "file_extension": ".py",
   "mimetype": "text/x-python",
   "name": "python",
   "nbconvert_exporter": "python",
   "pygments_lexer": "ipython3",
   "version": "3.10.7"
  }
 },
 "nbformat": 4,
 "nbformat_minor": 5
}
